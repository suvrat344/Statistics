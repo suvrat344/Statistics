{
 "cells": [
  {
   "cell_type": "markdown",
   "id": "aae51f0a",
   "metadata": {},
   "source": [
    "## Non Gaussian Distribution Function"
   ]
  },
  {
   "cell_type": "code",
   "execution_count": null,
   "id": "81ec5f82",
   "metadata": {},
   "outputs": [],
   "source": [
    "# Importing Packages\n",
    "\n",
    "import numpy as np\n",
    "import pandas as pd\n",
    "import seaborn as sns\n",
    "import matplotlib.pyplot as plt\n",
    "import statsmodels.api as sm\n",
    "import scipy.stats as stats"
   ]
  },
  {
   "cell_type": "code",
   "execution_count": null,
   "id": "f5c76f38",
   "metadata": {},
   "outputs": [],
   "source": [
    "# Importing Dataset\n",
    "\n",
    "iris = sns.load_dataset(\"iris\")"
   ]
  },
  {
   "cell_type": "code",
   "execution_count": null,
   "id": "5f2bdce4",
   "metadata": {},
   "outputs": [],
   "source": [
    "# Plot Kde Plot\n",
    "\n",
    "sns.kdeplot(iris[\"sepal_length\"])"
   ]
  },
  {
   "cell_type": "code",
   "execution_count": null,
   "id": "0f801add",
   "metadata": {},
   "outputs": [],
   "source": [
    "# Fit Normal Distribution\n",
    "\n",
    "temp = sorted(iris[\"sepal_length\"].tolist())\n",
    "x_quant = []\n",
    "y_quant = []\n",
    "\n",
    "for i in range(1,101):\n",
    "    y_quant.append(np.percentile(temp,i))\n",
    "    \n",
    "# Generate Normal Random Sample\n",
    "samples = np.random.normal(loc=0,scale=1,size=10000)\n",
    "\n",
    "for i in range(1,101):\n",
    "    x_quant.append(np.percentile(samples,i))\n",
    "    \n",
    "# Plot Scatter Plot\n",
    "sns.scatterplot(x=x_quant,y=y_quant)"
   ]
  },
  {
   "cell_type": "code",
   "execution_count": null,
   "id": "f1809d48",
   "metadata": {},
   "outputs": [],
   "source": [
    "fig = sm.qqplot(iris[\"sepal_length\"],line='45',fit=True)\n",
    "plt.title(\"QQ Plot\")\n",
    "plt.xlabel(\"Theoretical Quantiles\")\n",
    "plt.ylabel(\"Sample Quantiles\")\n",
    "plt.show()"
   ]
  },
  {
   "cell_type": "code",
   "execution_count": null,
   "id": "098af228",
   "metadata": {},
   "outputs": [],
   "source": [
    "# Fit Uniform Distribution To The Data\n",
    "x = np.random.uniform(low=0,high=1,size=1000)\n",
    "params = stats.uniform.fit(x)\n",
    "dist = stats.uniform(loc=params[0],scale=params[1])\n",
    "\n",
    "fig = sm.qqplot(x,dist=dist,line='45')\n",
    "plt.title(\"QQ plot of Uniform Distribution with Uniform  Fit\")\n",
    "plt.xlabel(\"Theoretical Quantiles\")\n",
    "plt.ylabel(\"Sample Quantiles\")\n",
    "plt.show()"
   ]
  },
  {
   "cell_type": "code",
   "execution_count": null,
   "id": "8c66530a",
   "metadata": {},
   "outputs": [],
   "source": [
    "plt.hist(x)\n",
    "plt.show()"
   ]
  },
  {
   "cell_type": "code",
   "execution_count": null,
   "id": "acc1559a",
   "metadata": {},
   "outputs": [],
   "source": [
    "# Log Log PLot\n",
    "\n",
    "# Parameter Of Pareto Distribution\n",
    "alpha = 3\n",
    "xm = 1\n",
    "\n",
    "x = np.linspace(0.1,10,1000)\n",
    "y = (xm**alpha)/(x**(alpha+1))\n",
    "plt.plot(x,y)\n",
    "plt.show()\n",
    "\n",
    "# Create Log Log Plot\n",
    "plt.plot(np.log(x),np.log(y))\n",
    "plt.xlabel(\"x\")\n",
    "plt.ylabel(\"P(x)\")\n",
    "plt.title(\"Pareto Distribution\")\n",
    "plt.show()"
   ]
  },
  {
   "cell_type": "code",
   "execution_count": null,
   "id": "6bd4ea92",
   "metadata": {},
   "outputs": [],
   "source": [
    "# Fit Pareto Distribution\n",
    "\n",
    "alpha = 2\n",
    "xm = 1\n",
    "\n",
    "x = stats.pareto.rvs(b=alpha,scale=xm,size=1000)\n",
    "params = stats.pareto.fit(x,floc=0)\n",
    "dist = stats.pareto(b=params[0],scale=params[2])\n",
    "\n",
    "fig = sm.qqplot(x,dist=dist,line='45')\n",
    "plt.title(\"QQ plot of Pareto Distribution with Pareto Fit\")\n",
    "plt.xlabel(\"Theoterical Quantiles\")\n",
    "plt.ylabel(\"Sample Quantiles\")\n",
    "plt.show()"
   ]
  },
  {
   "cell_type": "code",
   "execution_count": null,
   "id": "ac094ed8",
   "metadata": {},
   "outputs": [],
   "source": [
    "plt.hist(x)\n",
    "plt.show()"
   ]
  }
 ],
 "metadata": {
  "kernelspec": {
   "display_name": "Python 3 (ipykernel)",
   "language": "python",
   "name": "python3"
  },
  "language_info": {
   "codemirror_mode": {
    "name": "ipython",
    "version": 3
   },
   "file_extension": ".py",
   "mimetype": "text/x-python",
   "name": "python",
   "nbconvert_exporter": "python",
   "pygments_lexer": "ipython3",
   "version": "3.11.5"
  }
 },
 "nbformat": 4,
 "nbformat_minor": 5
}
