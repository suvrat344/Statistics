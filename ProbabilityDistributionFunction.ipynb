{
 "cells": [
  {
   "cell_type": "markdown",
   "id": "9a13344c",
   "metadata": {},
   "source": [
    "<h1> Probability Distribution Function </h1>"
   ]
  },
  {
   "cell_type": "code",
   "execution_count": null,
   "id": "ae1f1c8d",
   "metadata": {},
   "outputs": [],
   "source": [
    "# Importing Packages\n",
    "\n",
    "import numpy as np\n",
    "import pandas as pd\n",
    "import random\n",
    "import matplotlib.pyplot as plt\n",
    "from numpy.random import normal\n",
    "from scipy.stats import norm\n",
    "from scipy import integrate\n",
    "import seaborn as sns\n",
    "from sklearn.neighbors import KernelDensity\n",
    "from sklearn.model_selection import GridSearchCV\n",
    "from sklearn.datasets import load_wine"
   ]
  },
  {
   "cell_type": "code",
   "execution_count": null,
   "id": "6a12a9a7",
   "metadata": {},
   "outputs": [],
   "source": [
    "# Create Series \n",
    "()\n",
    "L = []\n",
    "\n",
    "for i in range(10000):\n",
    "    a = random.randint(1,6)\n",
    "    b = random.randint(1,6)\n",
    "    L.append(a+b)\n",
    "    \n",
    "s = (pd.Series(L).value_counts() / pd.Series(L).value_counts().sum()).sort_index()\n",
    "\n",
    "s.plot(kind=\"bar\")"
   ]
  },
  {
   "cell_type": "code",
   "execution_count": null,
   "id": "078e937b",
   "metadata": {},
   "outputs": [],
   "source": [
    "# Plot Cumulative\n",
    "\n",
    "np.cumsum(s).plot(kind='bar')"
   ]
  },
  {
   "cell_type": "markdown",
   "id": "3f5c9e30",
   "metadata": {},
   "source": [
    "<h3> Parametric Density Estimation </h3>"
   ]
  },
  {
   "cell_type": "code",
   "execution_count": null,
   "id": "9aef545d",
   "metadata": {},
   "outputs": [],
   "source": [
    "sample = normal(loc=50,scale=5,size=1000)\n",
    "\n",
    "# Plot Histogram To Understand The Distribution Of Data\n",
    "\n",
    "plt.hist(sample,bins=10)\n",
    "plt.show()"
   ]
  },
  {
   "cell_type": "code",
   "execution_count": null,
   "id": "d09d6794",
   "metadata": {},
   "outputs": [],
   "source": [
    "# Calculate Sample Mean And Sample Standard Deviation\n",
    "\n",
    "sample_mean = sample.mean()\n",
    "sample_std = sample.std()"
   ]
  },
  {
   "cell_type": "code",
   "execution_count": null,
   "id": "aee24d6b",
   "metadata": {},
   "outputs": [],
   "source": [
    "# Fit The Distribution\n",
    "\n",
    "dist = norm(60,12)\n",
    "values = np.linspace(sample.min(),sample.max(),100)\n",
    "probabilities = [dist.pdf(value) for value in values]"
   ]
  },
  {
   "cell_type": "code",
   "execution_count": null,
   "id": "5fea4f2f",
   "metadata": {},
   "outputs": [],
   "source": [
    "# Plot The Histogram And PDF\n",
    "\n",
    "plt.hist(sample,bins=10,density=True)\n",
    "plt.plot(values,probabilities)\n",
    "plt.show()\n",
    "\n",
    "sns.distplot(sample)"
   ]
  },
  {
   "cell_type": "markdown",
   "id": "8df4ef1a",
   "metadata": {},
   "source": [
    "<h3> Kernel Density Estimation </h3>"
   ]
  },
  {
   "cell_type": "code",
   "execution_count": null,
   "id": "77594ddf",
   "metadata": {},
   "outputs": [],
   "source": [
    "# Generate Sample\n",
    "\n",
    "sample1 = normal(loc=20,scale=5,size=300)\n",
    "sample2 = normal(loc=40,scale=5,size=700)\n",
    "\n",
    "sample = np.hstack((sample1,sample2))"
   ]
  },
  {
   "cell_type": "code",
   "execution_count": null,
   "id": "daa09b2b",
   "metadata": {},
   "outputs": [],
   "source": [
    "# Plot Histogram\n",
    "\n",
    "plt.hist(sample,bins=50)\n",
    "plt.show()"
   ]
  },
  {
   "cell_type": "code",
   "execution_count": null,
   "id": "e03eef6e",
   "metadata": {},
   "outputs": [],
   "source": [
    "# Fit The Distribution\n",
    "\n",
    "model = KernelDensity(bandwidth=5,kernel='gaussian')\n",
    "\n",
    "# Convert Data To 2D Array\n",
    "sample = sample.reshape(len(sample),1)\n",
    "model.fit(sample)\n",
    "\n",
    "values = np.linspace(sample.min(),sample.max(),100)\n",
    "values = values.reshape(len(values),1)\n",
    "probabilities = model.score_samples(values)\n",
    "probabilities = np.exp(probabilities)"
   ]
  },
  {
   "cell_type": "markdown",
   "id": "73adefcc",
   "metadata": {},
   "source": [
    "score_samples(values) returns the log-density estimate of the input samples values. This is because the score_samples() method of the KernelDensity class returns the logarithm of the probability density estimate rather than the actual probability density estimate."
   ]
  },
  {
   "cell_type": "code",
   "execution_count": null,
   "id": "c08810b1",
   "metadata": {},
   "outputs": [],
   "source": [
    "# Plot The Histogram\n",
    "\n",
    "plt.hist(sample,bins=50,density=True)\n",
    "plt.plot(values[:],probabilities)\n",
    "plt.show()\n",
    "\n",
    "sns.kdeplot(sample.reshape(1000),bw_adjust=0.02)"
   ]
  },
  {
   "cell_type": "code",
   "execution_count": null,
   "id": "04d00525",
   "metadata": {},
   "outputs": [],
   "source": [
    "# Importing Dataset\n",
    "\n",
    "iris = sns.load_dataset('iris')"
   ]
  },
  {
   "cell_type": "code",
   "execution_count": null,
   "id": "584711ef",
   "metadata": {},
   "outputs": [],
   "source": [
    "# Plot Kde Plot\n",
    "\n",
    "sns.kdeplot(data=iris,x='sepal_length',hue='species')"
   ]
  },
  {
   "cell_type": "code",
   "execution_count": null,
   "id": "389ad15e",
   "metadata": {},
   "outputs": [],
   "source": [
    "# Plot Kde Plot\n",
    "\n",
    "sns.kdeplot(data=iris,x='sepal_width',hue='species')"
   ]
  },
  {
   "cell_type": "code",
   "execution_count": null,
   "id": "2a271ade",
   "metadata": {},
   "outputs": [],
   "source": [
    "# Plot Kde Plot\n",
    "\n",
    "sns.kdeplot(data=iris,x='petal_length',hue='species')"
   ]
  },
  {
   "cell_type": "code",
   "execution_count": null,
   "id": "8537c4f2",
   "metadata": {},
   "outputs": [],
   "source": [
    "# Plot Kde Plot\n",
    "\n",
    "sns.kdeplot(data=iris,x='petal_width',hue='species')"
   ]
  },
  {
   "cell_type": "code",
   "execution_count": null,
   "id": "2812c5bd",
   "metadata": {},
   "outputs": [],
   "source": [
    "# Plot Kdeplot And Ecdf Plot\n",
    "\n",
    "sns.kdeplot(data=iris,x = 'petal_width',hue='species')\n",
    "sns.ecdfplot(data=iris,x=\"petal_width\",hue='species')"
   ]
  },
  {
   "cell_type": "code",
   "execution_count": null,
   "id": "2131023b",
   "metadata": {},
   "outputs": [],
   "source": [
    "# Importing Dataset\n",
    "\n",
    "titanic = sns.load_dataset('titanic')"
   ]
  },
  {
   "cell_type": "code",
   "execution_count": null,
   "id": "17f29ea5",
   "metadata": {},
   "outputs": [],
   "source": [
    "# Plot Kdeplot\n",
    "\n",
    "sns.kdeplot(data=titanic,x='age',hue='sex')"
   ]
  },
  {
   "cell_type": "code",
   "execution_count": null,
   "id": "0cdf236c",
   "metadata": {},
   "outputs": [],
   "source": [
    "# Plot Joint Plot\n",
    "\n",
    "sns.jointplot(data=iris,x=\"petal_length\",y=\"sepal_length\",kind=\"kde\",fill=True,cbar=True)"
   ]
  },
  {
   "cell_type": "code",
   "execution_count": null,
   "id": "9c46410a",
   "metadata": {},
   "outputs": [],
   "source": [
    "# Plot Kde Plot\n",
    "\n",
    "sns.kdeplot(data=titanic,x='age')"
   ]
  },
  {
   "cell_type": "code",
   "execution_count": null,
   "id": "f5008781",
   "metadata": {},
   "outputs": [],
   "source": [
    "# Plot Kdeplot\n",
    "\n",
    "x = (titanic[\"age\"] - titanic['age'].mean())/titanic[\"age\"].std()\n",
    "sns.kdeplot(x)"
   ]
  },
  {
   "cell_type": "code",
   "execution_count": null,
   "id": "1099224f",
   "metadata": {},
   "outputs": [],
   "source": [
    "# Detect Outlier Using Normal Distirbution\n",
    "\n",
    "xmin = titanic['age'].mean() - 3 * titanic[\"age\"].std()\n",
    "xmax = titanic[\"age\"].mean() + 3 * titanic[\"age\"].std()\n",
    "\n",
    "titanic[(titanic[\"age\"] > 73.27860964406095) & (titanic[\"age\"] > -13.88037434994331)]"
   ]
  },
  {
   "cell_type": "code",
   "execution_count": null,
   "id": "fffa778b",
   "metadata": {},
   "outputs": [],
   "source": [
    "# Skewness Of Data\n",
    "\n",
    "titanic[\"age\"].skew()"
   ]
  },
  {
   "cell_type": "markdown",
   "id": "e8b15ca4",
   "metadata": {},
   "source": [
    "<h3> Question on Probability Distribution Function </h3>"
   ]
  },
  {
   "cell_type": "code",
   "execution_count": null,
   "id": "480ed83b",
   "metadata": {},
   "outputs": [],
   "source": [
    "insurance = pd.read_csv(\"InsuranceData.csv\")\n",
    "insurance.info()"
   ]
  },
  {
   "cell_type": "code",
   "execution_count": null,
   "id": "cba67dce",
   "metadata": {},
   "outputs": [],
   "source": [
    "# 1. What is the probability distribution of age in the insurance dataset?\n",
    "\n",
    "plt.hist(insurance[\"age\"], density=True)\n",
    "kde = KernelDensity(kernel=\"gaussian\",bandwidth=2).fit(insurance[\"age\"].dropna().to_numpy().reshape(-1,1))\n",
    "age_range = np.linspace(insurance[\"age\"].min(),insurance[\"age\"].max(),1000)\n",
    "pdf = np.exp(kde.score_samples(age_range.reshape(-1, 1)))\n",
    "plt.plot(age_range,pdf)\n",
    "plt.title(\"Age PDF\")\n",
    "plt.show()"
   ]
  },
  {
   "cell_type": "code",
   "execution_count": null,
   "id": "f9879a4a",
   "metadata": {},
   "outputs": [],
   "source": [
    "# 2. What is the probability of a patient having a BMI greater than 30?\n",
    "\n",
    "patient_bmi_greater_than_30 = insurance[insurance[\"bmi\"]>30].shape[0]\n",
    "print(\"Probability of patient having a BMI greater than 30 is \", round(patient_bmi_greater_than_30/insurance.shape[0],2))"
   ]
  },
  {
   "cell_type": "code",
   "execution_count": null,
   "id": "c972e2a7",
   "metadata": {},
   "outputs": [],
   "source": [
    "# 3. Plot distribution plot of claim for Smoker and non smoker. What changes you see in the plot?\n",
    "\n",
    "sns.kdeplot(x=insurance[\"claim\"],hue=insurance[\"smoker\"])"
   ]
  },
  {
   "cell_type": "markdown",
   "id": "783e4fbb",
   "metadata": {},
   "source": [
    "- Claim for non-smoker is lesser than smokers.\n",
    "- Most claim of non-smoker lie in range 0-15000 and Smoker's claim is greater than 15000."
   ]
  },
  {
   "cell_type": "code",
   "execution_count": null,
   "id": "904932d8",
   "metadata": {},
   "outputs": [],
   "source": [
    "# 4. Plot the 2D probability density plot of claim and age in the insurance dataset?\n",
    "\n",
    "sns.kdeplot(x=insurance[\"age\"],y=insurance[\"claim\"],cmap=\"Blues\",fill=True,thresh=0.05)"
   ]
  },
  {
   "cell_type": "code",
   "execution_count": null,
   "id": "ee038796",
   "metadata": {},
   "outputs": [],
   "source": [
    "# 5. How does the disribution of claim changes for different region? Plot density plot and note down the observations\n",
    "\n",
    "sns.kdeplot(x=insurance[\"claim\"],hue=insurance[\"region\"])"
   ]
  },
  {
   "cell_type": "markdown",
   "id": "5d7637c2",
   "metadata": {},
   "source": [
    "- Leaving northeast, all other regions have high density around same claim amount.\n",
    "- All regions follow same trends of claims, global peak around 6000-10000 and a local peak around 4000"
   ]
  },
  {
   "cell_type": "code",
   "execution_count": null,
   "id": "2000faa0",
   "metadata": {},
   "outputs": [],
   "source": [
    "# 6. Plot PDF and CDF of claim in insurance data\n",
    "\n",
    "# Approach1 - Histogram approach to which distribution follows\n",
    "plt.hist(insurance[\"claim\"],bins=30,density=True,alpha=0.5)\n",
    "plt.show()"
   ]
  },
  {
   "cell_type": "markdown",
   "id": "869f3743",
   "metadata": {},
   "source": [
    "- As above hist plot is not normal we are going with non-parametric approach."
   ]
  },
  {
   "cell_type": "code",
   "execution_count": null,
   "id": "0f12ee18",
   "metadata": {},
   "outputs": [],
   "source": [
    "plt.figure(figsize=(10,4))\n",
    "\n",
    "# plot pdf using KDE\n",
    "plt.subplot(1,2,1)\n",
    "sns.kdeplot(insurance[\"claim\"])\n",
    "plt.xlabel(\"Variable\")\n",
    "plt.ylabel(\"Density\")\n",
    "plt.title(\"Probability Density Function (PDF)\")\n",
    "\n",
    "# plot cdf using cumulative sum of KDE\n",
    "plt.subplot(1,2,2)\n",
    "sns.kdeplot(insurance[\"claim\"],cumulative=True)\n",
    "plt.xlabel(\"Variable\")\n",
    "plt.ylabel(\"Cumulative Probability\")\n",
    "plt.title(\"Cumulative Density Function (CDF)\")\n",
    "\n",
    "plt.tight_layout()\n",
    "plt.show()"
   ]
  },
  {
   "cell_type": "code",
   "execution_count": null,
   "id": "0b6f4b07",
   "metadata": {},
   "outputs": [],
   "source": [
    "# 7. Given a probability density function f(x) = 2x for 0 <= x <= 1 and f(x) = 0 otherwise, compute the cumulative \n",
    "#distribution function F(x) and plot it. Use this to find the probability that X is greater than 0.5.\n",
    "\n",
    "def pdf(x):\n",
    "    if(0<=x<=1):\n",
    "        return 2 * x\n",
    "    else:\n",
    "        return 0\n",
    "\n",
    "def cdf(x):\n",
    "    if(0<=x<= 1):\n",
    "        return x ** 2\n",
    "    else:\n",
    "        return 1\n",
    "\n",
    "x = np.linspace(0,1,100)\n",
    "y_cdf = np.array([cdf(xi) for xi in x])\n",
    "plt.plot(x,y_cdf)\n",
    "plt.xlabel('x')\n",
    "plt.ylabel('F(x)')\n",
    "plt.title(\"Cumulative Distribution Function\")\n",
    "plt.grid(True)\n",
    "plt.show()\n",
    "\n",
    "print(\"Probability that X is greater than 0.5 is \",1 - cdf(0.5))"
   ]
  },
  {
   "cell_type": "code",
   "execution_count": null,
   "id": "ec7bd1e8",
   "metadata": {},
   "outputs": [],
   "source": [
    "# 8. In a manufacturing process, the thickness of a certain material is known to be normally distributed with a mean of \n",
    "# 1.2mm and a standard deviation of 0.05 mm. What is the probability density function of the thickness? Plot the PDF and \n",
    "# use it to compute the probability that the thickness is between 1.1 mm and 1.3 mm.\n",
    "\n",
    "def pdf(x,mean,std_dev):\n",
    "    return (1/(std_dev * np.sqrt(2 * np.pi)))*np.exp(-((x-mean)**2)/(2*std_dev**2))\n",
    "\n",
    "mean = 1.2\n",
    "std_dev = 0.05\n",
    "\n",
    "x = np.linspace(1.0,1.4,100)\n",
    "y_pdf = pdf(x,mean,std_dev)\n",
    "\n",
    "plt.plot(x,y_pdf)\n",
    "plt.xlabel(\"Thickness\")\n",
    "plt.ylabel(\"f(x)\")\n",
    "plt.title(\"Probability Density Function (PDF) of Thickness\")\n",
    "plt.grid(True)\n",
    "plt.show()\n",
    "\n",
    "print(\"Probability that the thickness is between 1.1mm and 1.3mm is \",round(integrate.quad(lambda x:pdf(x,mean,std_dev),1.1,1.3)[0],2))"
   ]
  },
  {
   "cell_type": "code",
   "execution_count": null,
   "id": "ff1148d4",
   "metadata": {},
   "outputs": [],
   "source": [
    "# 9. A data scientist is investigating the distribution of customer ages in a retail store. She collects a sample of 100 \n",
    "# ages and estimates the probability density function using kernel density estimation. What bandwidth should she choose to \n",
    "# obtain the best estimate?\n",
    "\n",
    "ages = np.random.normal(loc=40,scale=10,size=100)\n",
    "bandwidths = 10 ** np.linspace(-1,1,100)\n",
    "params = {\"bandwidth\":bandwidths,\"kernel\":[\"gaussian\"]}\n",
    "\n",
    "grid = GridSearchCV(KernelDensity(),params,cv=5)\n",
    "grid.fit(ages.reshape(-1,1))\n",
    "\n",
    "best_bandwidth = grid.best_estimator_.bandwidth\n",
    "print(\"Best Estimator : \",best_bandwidth)"
   ]
  },
  {
   "cell_type": "markdown",
   "id": "6d261de3",
   "metadata": {},
   "source": [
    "Choosing the best bandwidth for KDE involves finding a balance between overfitting and underfitting. If the bandwidth is too small, the estimated PDF may have a lot of small, spurious oscillations or noise, which may not accurately represent the underlying distribution of the data. On the other hand, if the bandwidth is too large, the estimated PDF may be overly smooth and may not capture the finer details or variations in the data.\n",
    "\n",
    "There are several methods that can be used to select the optimal bandwidth for KDE, including cross-validation, rule-of-thumb methods (e.g., Scott's rule, Silverman's rule), and optimization techniques (e.g., maximum likelihood estimation).\n",
    "\n",
    "One common rule-of-thumb method for choosing the bandwidth in KDE is Scott's rule, which is given by:\n",
    "\n",
    "h = 1.06 * sigma * n^(-1/5)\n",
    "\n",
    "where h is the bandwidth, sigma is the standard deviation of the data, and n is the number of data points in the sample. Scott's rule is often used as a default bandwidth choice in many KDE implementations."
   ]
  },
  {
   "cell_type": "code",
   "execution_count": null,
   "id": "f8f37b48",
   "metadata": {},
   "outputs": [],
   "source": [
    "# Scott rule bandwidth\n",
    "# h = 1.06 * sigma * n^(-1/5)\n",
    "h = 1.06 * 10 * (100**(-1/5))\n",
    "print(\"Scott rule bandwidth:\", h)"
   ]
  },
  {
   "cell_type": "markdown",
   "id": "b30b2434",
   "metadata": {},
   "source": [
    "<h3> Question on Normal Distribution </h3>"
   ]
  },
  {
   "cell_type": "code",
   "execution_count": null,
   "id": "d9e0d16c",
   "metadata": {},
   "outputs": [],
   "source": [
    "# 1. Given a normal distribution with mean as 50 and deviation as 10, answer below questions\n",
    "# X ~ N(5O, 10)\n",
    "# a. what are the values of the mean and standard deviation? \n",
    "# b. What value of x has a z-score of 1.4? \n",
    "# c. What is the Z-score that corresponds to x = 30? \n",
    "# d. What is the difference between positive and negative z values?\n",
    "\n",
    "mean = 50\n",
    "std_dev = 10\n",
    "\n",
    "plt.hist(np.random.normal(mean,std_dev,10000),density=True,bins=50)\n",
    "plt.show()\n",
    "# a)\n",
    "print(\"Mean : \",mean)\n",
    "print(\"Standard Deviation : \",std_dev)\n",
    "\n",
    "# b) \n",
    "z_score = 1.4\n",
    "x = mean + std_dev * z_score\n",
    "print(\"X value with z-score 1.4 is \",x)\n",
    "\n",
    "# c)\n",
    "x = 30\n",
    "z = (x - mean) / std_dev\n",
    "print(\"Z-score that correspond to x = 30 is \",z)\n",
    "\n",
    "# d)\n",
    "print(\n",
    "'''The sign of the z-score indicates whether the raw score (x) is above or below the mean of the distribution. A \n",
    "positive z-score indicates that the raw score is above the mean, while a negative z-score indicates that the raw \n",
    "score is below the mean. The absolute value of the z-score represents the number of standard deviations away from \n",
    "the mean.''')"
   ]
  },
  {
   "cell_type": "code",
   "execution_count": null,
   "id": "ba5d44a2",
   "metadata": {},
   "outputs": [],
   "source": [
    "# 2. The average test score in a certain statistics class was 74 with a standard deviation of 8. There are 2000 students in \n",
    "# this class. Use the emperical rule to answer the following questions:\n",
    "# a) What percentage of students scored less than 58? \n",
    "# b) What is the probability that a student score between 66 and 82 on the exam? \n",
    "# c) How many students scored at most 90? \n",
    "# d) What percentage of students scored at least 66? \n",
    "# e) How many students scored more than 98 on the test?\n",
    "\n",
    "mu = 0\n",
    "sigma = 1\n",
    "\n",
    "data = np.random.normal(mean,sigma,size = 10000)\n",
    "mean = np.mean(data)\n",
    "std = np.std(data)\n",
    "\n",
    "# Compute the percentages for each standard deviation\n",
    "pct_0 = round(((np.sum((data>=mean-std) & (data<=mean+std)))/len(data))*100,2)\n",
    "pct_1 = round(((np.sum((data>=mean-2*std) & (data<=mean+2*std)))/len(data))*100,2)\n",
    "pct_2 = round(((np.sum((data>=mean-3*std) & (data<=mean+3*std)))/len(data))*100,2)\n",
    "\n",
    "fig = plt.figure(figsize=(16,9))\n",
    "plt.hist(data,bins=60,density=True,alpha=0.5)\n",
    "\n",
    "for i in range(-3,4):\n",
    "    x = mean + i * std\n",
    "    y = 1/(std * np.sqrt(2*np.pi))*np.exp(-(x-mean)**2/(2*std**2))\n",
    "    plt.plot([x,x],[0,y],linestyle='--',color='r',alpha=0.7)\n",
    "    plt.annotate(f\"{i} std\\n({eval(f'pct_{abs(i)}')}%)\", (x, y), xytext=(x-0.1, y+0.01), fontsize=8, color='r')\n",
    "\n",
    "    \n",
    "plt.xlabel('x')\n",
    "plt.ylabel(\"Frequency\")\n",
    "plt.title(\"Normal distribution with empirical rule\")\n",
    "plt.show()"
   ]
  },
  {
   "cell_type": "markdown",
   "id": "6bfcff72",
   "metadata": {},
   "source": [
    "The empirical rule states that for a normal distribution, approximately:\n",
    "- 68% of the data falls within one standard deviation of the mean (i.e., μ ± σ) <br>\n",
    "- 95% of the data falls within two standard deviations of the mean (i.e., μ ± 2σ) <br>\n",
    "- 99.7% of the data falls within three standard deviations of the mean (i.e., μ ± 3σ)"
   ]
  },
  {
   "cell_type": "code",
   "execution_count": null,
   "id": "b9e0a216",
   "metadata": {},
   "outputs": [],
   "source": [
    "mean = 74\n",
    "std_dev = 8\n",
    "n = 2000\n",
    "\n",
    "# a)\n",
    "x = 58\n",
    "z = (x - mean)/std_dev\n",
    "print('''The percentage of students who scored less than 58 is the same as the percentage of students who are more than \n",
    "2 standard deviations below the mean, which is approximately:\n",
    "P(z < -2) = P(z > 2) = 0.0228.Therefore, approximately 2.28% of the students scored less than 58.''')\n",
    "\n",
    "# b)\n",
    "x1 = 66\n",
    "x2 = 82\n",
    "z1 = (x1 - mean)/std_dev\n",
    "z2 = (x2 - mean)/std_dev\n",
    "print('''The probability of a student scoring between 66 and 82 is the same as the probability of being within one standard\n",
    "deviation of the mean, which is approximately: P(-1 < z < 1) = 0.68 Therefore, approximately 68% of the students scored \n",
    "between 66 and 82.''')\n",
    "\n",
    "# c)\n",
    "x = 90\n",
    "z = (x - mean)/std_dev\n",
    "print('''The percentage of students who scored at most 90 is the same as the percentage of students who are less than or \n",
    "equal to 2 standard deviations above the mean, which is approximately:\n",
    "P(z <= 2) = 0.9772.Therefore, approximately 1954 students scored at most 90 (out of 2000 students).''')\n",
    "\n",
    "# d)\n",
    "x = 66\n",
    "z = (x - mean) / std_dev\n",
    "print('''The percentage of students who scored at least 66 is the same as the percentage of students who are at most 1 \n",
    "standard deviation below the mean, which is approximately: \n",
    "P(z >= -1) = 0.8413 Therefore, approximately 84.13% of the students scored at least 66.''')\n",
    "\n",
    "# e)\n",
    "x = 98\n",
    "z = (x - mean)/std_dev\n",
    "print('''The percentage of students who scored more than 98 is the same as the percentage of students who are more than 3 \n",
    "standard deviations above the mean, which is approximately:\n",
    "P(z > 3) = 0.0013 Therefore, approximately 1.3 students scored more than 98 (out of 2000 students). However, since we \n",
    "cannot have a fraction of a student, we can say that either 1 or 2 students scored more than 98.''')"
   ]
  },
  {
   "cell_type": "code",
   "execution_count": null,
   "id": "783c4854",
   "metadata": {},
   "outputs": [],
   "source": [
    "# 3. Normally distributed IQ scores have a mean of 100 and a standard deviation of 15. Use the standard z-table to answer the \n",
    "#following questions:\n",
    "# What is the probability of randomly selecting someone with an IQ score that is\n",
    "# a) less than 80? \n",
    "# b) greater than 136? \n",
    "# c) between 95 and 110?\n",
    "# d) What IQ score corresponds to the 90th percentile? \n",
    "# e) The middle 30% of IQs fall between what two values?\n",
    "\n",
    "mean = 100\n",
    "std_dev = 15\n",
    "x = np.linspace(mean - 3 * std_dev,mean + 3 * std_dev,100)\n",
    "y = 1/(std_dev * np.sqrt(2 * np.pi)) * np.exp(-(x - mean)**2/(2*std_dev**2))\n",
    "\n",
    "fig,ax = plt.subplots(figsize=(10,6))\n",
    "ax.plot(x,y,color='black',linewidth=2)\n",
    "\n",
    "# Shade the areas corresponding to 1, 2, and 3 standard deviations from the mean\n",
    "ax.fill_between(x,y,where=(x>=mean - std_dev) & (x<=mean + std_dev),alpha=0.3,color=\"blue\")\n",
    "ax.fill_between(x,y,where=(x>=mean - 2*std_dev) & (x<=mean + 2*std_dev),alpha=0.3,color=\"orange\")\n",
    "ax.fill_between(x,y,where=(x>=mean - 3*std_dev) & (x<=mean + 3*std_dev),alpha=0.3,color=\"green\")\n",
    "\n",
    "# Add a vertical line to indicate the mean\n",
    "ax.axvline(mean,color=\"green\",linestyle=\"--\",linewidth=2)\n",
    "\n",
    "ax.set_xlabel(\"IQ Scores\")\n",
    "ax.set_xlabel(\"Probability Density\")\n",
    "ax.set_xlabel(\"Normal Distribution of IQ Scores\")\n",
    "\n",
    "plt.show()"
   ]
  },
  {
   "cell_type": "code",
   "execution_count": null,
   "id": "cffcfccc",
   "metadata": {},
   "outputs": [],
   "source": [
    "# Define the range of z-scores to be included in the table\n",
    "z_range = np.arange(0.0,3.5,0.1)\n",
    "col = np.arange(0.00,1.0,0.1)/10\n",
    "\n",
    "# Create a pandas dataframe to store the z-score table\n",
    "z_table = pd.DataFrame(index = z_range,columns=col)\n",
    "\n",
    "# Fill the dataframe with the corresponding probability values\n",
    "for i in z_range:\n",
    "    for j in col:\n",
    "        z_table.loc[i,j] = round(norm.cdf(j+i),4)\n",
    "z_table"
   ]
  },
  {
   "cell_type": "code",
   "execution_count": null,
   "id": "7d1ef6f7",
   "metadata": {},
   "outputs": [],
   "source": [
    "pd.options.display.float_format = '{:f}'.format\n",
    "\n",
    "# Define the range of z-scores to be included in the table\n",
    "z_range = np.arange(-3.4,0.1,0.1)\n",
    "col = np.arange(0.00,1.0,0.1)/10\n",
    "\n",
    "# Create a pandas dataframe to store the z-score table\n",
    "z_table = pd.DataFrame(index = z_range,columns=col)\n",
    "\n",
    "# Fill the dataframe with the corresponding probability values\n",
    "for i in z_range:\n",
    "    for j in col:\n",
    "        z_table.loc[i,j] = round(norm.cdf(i-j),4)\n",
    "z_table"
   ]
  },
  {
   "cell_type": "code",
   "execution_count": null,
   "id": "10a659e6",
   "metadata": {},
   "outputs": [],
   "source": [
    "mean = 100\n",
    "std_dev = 15\n",
    "# a)\n",
    "x = 80\n",
    "z = (x - mean)/std_dev\n",
    "print('''Using the z-table,the probability of a randomly selected person having an IQ score less than 80 is approximately \n",
    "0.0912 or 9.12%''')\n",
    "\n",
    "# b)\n",
    "x = 136\n",
    "z = (x - mean)/std_dev\n",
    "print('''If we look for probability from the z-table, it will give probability of IQ <= 136. we want probability of \n",
    "IQ>136, so we need to take: 1 - P(IQ<=136) = 1 - 0.9918 = 0.0082''')\n",
    "print('''The probability of a randomly selected person having an IQ score greater than 136 is approximately 0.0082 or \n",
    "0.82%.''')\n",
    "\n",
    "# c) \n",
    "x1 = 95\n",
    "x2 = 110\n",
    "z1 = (x1 - mean) / std_dev\n",
    "z2 = (x2 - mean) / std_dev\n",
    "print('''Using the z-table,the probability of a randomly selected person having an IQ score between 95 and 110 is \n",
    "approximately 0.3819 or 38.19%.''')\n",
    "\n",
    "# d)\n",
    "print('''The 90th percentile corresponds to a z-score of 1.28 (from the z-table) We can use this z-score to find the\n",
    "corresponding IQ score''')\n",
    "IQ = 1.28 * 15 + 100\n",
    "print(\"The IQ score corresponding to the 90th percentile is .\",IQ)\n",
    "\n",
    "#  e)\n",
    "print('''The middle 30% of IQs corresponds to the area between the 35th and 65th percentiles (since the total area under \n",
    "the curve is 100% and we want the middle 30%)''')\n",
    "print('''The z-scores corresponding to the 35th and 65th percentiles are approximately -0.39 and 0.39, respectively \n",
    "(from the z-table)''')\n",
    "IQ1 = -.39 * 15 + 100\n",
    "IQ2 = .39 *15 + 100\n",
    "print(\"The middle 30% of IQs fall between\",IQ1,\"and\",IQ2)"
   ]
  },
  {
   "cell_type": "code",
   "execution_count": null,
   "id": "e5efc922",
   "metadata": {},
   "outputs": [],
   "source": [
    "# 4. Consider this \"wine\" dataset which can be loaded using above code. It has 13 numerical features and a target column with\n",
    "# 3 class: 0, 1, 2.\n",
    "# Which feature is the best predictor of the wine class in the wine dataset? (Using pdf plot)\n",
    "# Which two combination of features from below listed features are best for wine classification? (2D pdf plot)\n",
    "# Proline\n",
    "# Flavanoids\n",
    "# Color intensity\n",
    "# OD280/OD315 of diluted wines\n",
    "# Alcohol\n",
    "\n",
    "data = load_wine()\n",
    "df = pd.DataFrame(data.data,columns=data.feature_names)\n",
    "\n",
    "df[\"target\"] = data.target\n",
    "for column in data.feature_names:\n",
    "    sns.kdeplot(x=column,hue=\"target\",data=df)\n",
    "    plt.show()\n",
    "    \n",
    "print(\"Based on PDF plots, Flavanoids column is best feature\")\n",
    "print(\"PDF of this feature for different classes are less overlapping\")"
   ]
  },
  {
   "cell_type": "code",
   "execution_count": null,
   "id": "fe71e35a",
   "metadata": {},
   "outputs": [],
   "source": [
    "data = load_wine(as_frame=True).frame\n",
    "wine = data[['proline','flavanoids','color_intensity','od280/od315_of_diluted_wines','alcohol', 'target']]\n",
    "\n",
    "# Define the pairplot with 2D KDE plots\n",
    "g = sns.pairplot(wine,hue='target',diag_kind=\"kde\",height=4,aspect=1.25)\n",
    "\n",
    "# Add 2D KDE plots to all other subplots\n",
    "for ax in g.axes.flat:\n",
    "    if(ax.get_xlabel() !=\"\" and ax.get_ylabel() !=\"\"):\n",
    "        sns.kdeplot(data=wine,x=ax.get_xlabel(),y=ax.get_ylabel(),hue='target',ax=ax)\n",
    "        ax.set_xlabel(ax.get_xlabel(),fontsize=10)\n",
    "        ax.set_ylabel(ax.get_ylabel(),fontsize=10)\n",
    "        ax.tick_params(labelsize=8)\n",
    "        \n",
    "plt.subplots_adjust(top=0.95,bottom=0.05,left=0.05,right=0.95,hspace=0.4,wspace=0.4)\n",
    "plt.show()\n",
    "\n",
    "print('Based on 2D KDE plot - proline and od280/od315_of_diluted_wines making best feature')\n",
    "print(\"3 classes are less overlapped\")"
   ]
  },
  {
   "cell_type": "code",
   "execution_count": null,
   "id": "28d20fc7",
   "metadata": {},
   "outputs": [],
   "source": [
    "sns.kdeplot(data=wine, x='proline', y='od280/od315_of_diluted_wines', hue='target', fill=True)"
   ]
  },
  {
   "cell_type": "markdown",
   "id": "8ce6b60d",
   "metadata": {},
   "source": [
    "⚛ Class_2 : diluted_wines < 2.4 and proline < 950\n",
    "\n",
    "⚛ Class_1 : diluted_wines > 2.4 and proline < 950\n",
    "\n",
    "⚛ Class_0 : diluted_wines > 2.4 and proline > 950"
   ]
  },
  {
   "cell_type": "code",
   "execution_count": null,
   "id": "65439e0d",
   "metadata": {},
   "outputs": [],
   "source": [
    "sns.kdeplot(data=wine, x='flavanoids', y='alcohol', hue='target')"
   ]
  },
  {
   "cell_type": "code",
   "execution_count": null,
   "id": "7bb2fe0d",
   "metadata": {},
   "outputs": [],
   "source": []
  }
 ],
 "metadata": {
  "kernelspec": {
   "display_name": "Python 3 (ipykernel)",
   "language": "python",
   "name": "python3"
  },
  "language_info": {
   "codemirror_mode": {
    "name": "ipython",
    "version": 3
   },
   "file_extension": ".py",
   "mimetype": "text/x-python",
   "name": "python",
   "nbconvert_exporter": "python",
   "pygments_lexer": "ipython3",
   "version": "3.11.5"
  }
 },
 "nbformat": 4,
 "nbformat_minor": 5
}
