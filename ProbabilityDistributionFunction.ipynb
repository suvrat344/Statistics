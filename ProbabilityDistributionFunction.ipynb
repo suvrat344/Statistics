{
 "cells": [
  {
   "cell_type": "markdown",
   "id": "9a13344c",
   "metadata": {},
   "source": [
    "<h1> Probability Distribution Function </h1>"
   ]
  },
  {
   "cell_type": "code",
   "execution_count": null,
   "id": "ae1f1c8d",
   "metadata": {},
   "outputs": [],
   "source": [
    "# Importing Packages\n",
    "\n",
    "import numpy as np\n",
    "import pandas as pd\n",
    "import random\n",
    "import matplotlib.pyplot as plt\n",
    "from numpy.random import normal\n",
    "from scipy.stats import norm\n",
    "from scipy import integrate\n",
    "import seaborn as sns\n",
    "from sklearn.neighbors import KernelDensity\n",
    "from sklearn.model_selection import GridSearchCV"
   ]
  },
  {
   "cell_type": "code",
   "execution_count": null,
   "id": "6a12a9a7",
   "metadata": {},
   "outputs": [],
   "source": [
    "# Create Series \n",
    "()\n",
    "L = []\n",
    "\n",
    "for i in range(10000):\n",
    "    a = random.randint(1,6)\n",
    "    b = random.randint(1,6)\n",
    "    L.append(a+b)\n",
    "    \n",
    "s = (pd.Series(L).value_counts() / pd.Series(L).value_counts().sum()).sort_index()\n",
    "\n",
    "s.plot(kind=\"bar\")"
   ]
  },
  {
   "cell_type": "code",
   "execution_count": null,
   "id": "078e937b",
   "metadata": {},
   "outputs": [],
   "source": [
    "# Plot Cumulative\n",
    "\n",
    "np.cumsum(s).plot(kind='bar')"
   ]
  },
  {
   "cell_type": "markdown",
   "id": "3f5c9e30",
   "metadata": {},
   "source": [
    "<h3> Parametric Density Estimation </h3>"
   ]
  },
  {
   "cell_type": "code",
   "execution_count": null,
   "id": "9aef545d",
   "metadata": {},
   "outputs": [],
   "source": [
    "sample = normal(loc=50,scale=5,size=1000)\n",
    "\n",
    "# Plot Histogram To Understand The Distribution Of Data\n",
    "\n",
    "plt.hist(sample,bins=10)\n",
    "plt.show()"
   ]
  },
  {
   "cell_type": "code",
   "execution_count": null,
   "id": "d09d6794",
   "metadata": {},
   "outputs": [],
   "source": [
    "# Calculate Sample Mean And Sample Standard Deviation\n",
    "\n",
    "sample_mean = sample.mean()\n",
    "sample_std = sample.std()"
   ]
  },
  {
   "cell_type": "code",
   "execution_count": null,
   "id": "aee24d6b",
   "metadata": {},
   "outputs": [],
   "source": [
    "# Fit The Distribution\n",
    "\n",
    "dist = norm(60,12)\n",
    "values = np.linspace(sample.min(),sample.max(),100)\n",
    "probabilities = [dist.pdf(value) for value in values]"
   ]
  },
  {
   "cell_type": "code",
   "execution_count": null,
   "id": "5fea4f2f",
   "metadata": {},
   "outputs": [],
   "source": [
    "# Plot The Histogram And PDF\n",
    "\n",
    "plt.hist(sample,bins=10,density=True)\n",
    "plt.plot(values,probabilities)\n",
    "plt.show()\n",
    "\n",
    "sns.distplot(sample)"
   ]
  },
  {
   "cell_type": "markdown",
   "id": "8df4ef1a",
   "metadata": {},
   "source": [
    "<h3> Kernel Density Estimation </h3>"
   ]
  },
  {
   "cell_type": "code",
   "execution_count": null,
   "id": "77594ddf",
   "metadata": {},
   "outputs": [],
   "source": [
    "# Generate Sample\n",
    "\n",
    "sample1 = normal(loc=20,scale=5,size=300)\n",
    "sample2 = normal(loc=40,scale=5,size=700)\n",
    "\n",
    "sample = np.hstack((sample1,sample2))"
   ]
  },
  {
   "cell_type": "code",
   "execution_count": null,
   "id": "daa09b2b",
   "metadata": {},
   "outputs": [],
   "source": [
    "# Plot Histogram\n",
    "\n",
    "plt.hist(sample,bins=50)\n",
    "plt.show()"
   ]
  },
  {
   "cell_type": "code",
   "execution_count": null,
   "id": "e03eef6e",
   "metadata": {},
   "outputs": [],
   "source": [
    "# Fit The Distribution\n",
    "\n",
    "model = KernelDensity(bandwidth=5,kernel='gaussian')\n",
    "\n",
    "# Convert Data To 2D Array\n",
    "sample = sample.reshape(len(sample),1)\n",
    "model.fit(sample)\n",
    "\n",
    "values = np.linspace(sample.min(),sample.max(),100)\n",
    "values = values.reshape(len(values),1)\n",
    "probabilities = model.score_samples(values)\n",
    "probabilities = np.exp(probabilities)"
   ]
  },
  {
   "cell_type": "markdown",
   "id": "73adefcc",
   "metadata": {},
   "source": [
    "score_samples(values) returns the log-density estimate of the input samples values. This is because the score_samples() method of the KernelDensity class returns the logarithm of the probability density estimate rather than the actual probability density estimate."
   ]
  },
  {
   "cell_type": "code",
   "execution_count": null,
   "id": "c08810b1",
   "metadata": {},
   "outputs": [],
   "source": [
    "# Plot The Histogram\n",
    "\n",
    "plt.hist(sample,bins=50,density=True)\n",
    "plt.plot(values[:],probabilities)\n",
    "plt.show()\n",
    "\n",
    "sns.kdeplot(sample.reshape(1000),bw_adjust=0.02)"
   ]
  },
  {
   "cell_type": "code",
   "execution_count": null,
   "id": "04d00525",
   "metadata": {},
   "outputs": [],
   "source": [
    "# Importing Dataset\n",
    "\n",
    "iris = sns.load_dataset('iris')"
   ]
  },
  {
   "cell_type": "code",
   "execution_count": null,
   "id": "584711ef",
   "metadata": {},
   "outputs": [],
   "source": [
    "# Plot Kde Plot\n",
    "\n",
    "sns.kdeplot(data=iris,x='sepal_length',hue='species')"
   ]
  },
  {
   "cell_type": "code",
   "execution_count": null,
   "id": "389ad15e",
   "metadata": {},
   "outputs": [],
   "source": [
    "# Plot Kde Plot\n",
    "\n",
    "sns.kdeplot(data=iris,x='sepal_width',hue='species')"
   ]
  },
  {
   "cell_type": "code",
   "execution_count": null,
   "id": "2a271ade",
   "metadata": {},
   "outputs": [],
   "source": [
    "# Plot Kde Plot\n",
    "\n",
    "sns.kdeplot(data=iris,x='petal_length',hue='species')"
   ]
  },
  {
   "cell_type": "code",
   "execution_count": null,
   "id": "8537c4f2",
   "metadata": {},
   "outputs": [],
   "source": [
    "# Plot Kde Plot\n",
    "\n",
    "sns.kdeplot(data=iris,x='petal_width',hue='species')"
   ]
  },
  {
   "cell_type": "code",
   "execution_count": null,
   "id": "2812c5bd",
   "metadata": {},
   "outputs": [],
   "source": [
    "# Plot Kdeplot And Ecdf Plot\n",
    "\n",
    "sns.kdeplot(data=iris,x = 'petal_width',hue='species')\n",
    "sns.ecdfplot(data=iris,x=\"petal_width\",hue='species')"
   ]
  },
  {
   "cell_type": "code",
   "execution_count": null,
   "id": "2131023b",
   "metadata": {},
   "outputs": [],
   "source": [
    "# Importing Dataset\n",
    "\n",
    "titanic = sns.load_dataset('titanic')"
   ]
  },
  {
   "cell_type": "code",
   "execution_count": null,
   "id": "17f29ea5",
   "metadata": {},
   "outputs": [],
   "source": [
    "# Plot Kdeplot\n",
    "\n",
    "sns.kdeplot(data=titanic,x='age',hue='sex')"
   ]
  },
  {
   "cell_type": "code",
   "execution_count": null,
   "id": "0cdf236c",
   "metadata": {},
   "outputs": [],
   "source": [
    "# Plot Joint Plot\n",
    "\n",
    "sns.jointplot(data=iris,x=\"petal_length\",y=\"sepal_length\",kind=\"kde\",fill=True,cbar=True)"
   ]
  },
  {
   "cell_type": "code",
   "execution_count": null,
   "id": "9c46410a",
   "metadata": {},
   "outputs": [],
   "source": [
    "# Plot Kde Plot\n",
    "\n",
    "sns.kdeplot(data=titanic,x='age')"
   ]
  },
  {
   "cell_type": "code",
   "execution_count": null,
   "id": "f5008781",
   "metadata": {},
   "outputs": [],
   "source": [
    "# Plot Kdeplot\n",
    "\n",
    "x = (titanic[\"age\"] - titanic['age'].mean())/titanic[\"age\"].std()\n",
    "sns.kdeplot(x)"
   ]
  },
  {
   "cell_type": "code",
   "execution_count": null,
   "id": "1099224f",
   "metadata": {},
   "outputs": [],
   "source": [
    "# Detect Outlier Using Normal Distirbution\n",
    "\n",
    "xmin = titanic['age'].mean() - 3 * titanic[\"age\"].std()\n",
    "xmax = titanic[\"age\"].mean() + 3 * titanic[\"age\"].std()\n",
    "\n",
    "titanic[(titanic[\"age\"] > 73.27860964406095) & (titanic[\"age\"] > -13.88037434994331)]"
   ]
  },
  {
   "cell_type": "code",
   "execution_count": null,
   "id": "fffa778b",
   "metadata": {},
   "outputs": [],
   "source": [
    "# Skewness Of Data\n",
    "\n",
    "titanic[\"age\"].skew()"
   ]
  },
  {
   "cell_type": "markdown",
   "id": "e8b15ca4",
   "metadata": {},
   "source": [
    "<h3> Question on Probability Distribution Function </h3>"
   ]
  },
  {
   "cell_type": "code",
   "execution_count": null,
   "id": "480ed83b",
   "metadata": {},
   "outputs": [],
   "source": [
    "insurance = pd.read_csv(\"InsuranceData.csv\")\n",
    "insurance.info()"
   ]
  },
  {
   "cell_type": "code",
   "execution_count": null,
   "id": "cba67dce",
   "metadata": {},
   "outputs": [],
   "source": [
    "# 1. What is the probability distribution of age in the insurance dataset?\n",
    "\n",
    "plt.hist(insurance[\"age\"], density=True)\n",
    "kde = KernelDensity(kernel=\"gaussian\",bandwidth=2).fit(insurance[\"age\"].dropna().to_numpy().reshape(-1,1))\n",
    "age_range = np.linspace(insurance[\"age\"].min(),insurance[\"age\"].max(),1000)\n",
    "pdf = np.exp(kde.score_samples(age_range.reshape(-1, 1)))\n",
    "plt.plot(age_range,pdf)\n",
    "plt.title(\"Age PDF\")\n",
    "plt.show()"
   ]
  },
  {
   "cell_type": "code",
   "execution_count": null,
   "id": "f9879a4a",
   "metadata": {},
   "outputs": [],
   "source": [
    "# 2. What is the probability of a patient having a BMI greater than 30?\n",
    "\n",
    "patient_bmi_greater_than_30 = insurance[insurance[\"bmi\"]>30].shape[0]\n",
    "print(\"Probability of patient having a BMI greater than 30 is \", round(patient_bmi_greater_than_30/insurance.shape[0],2))"
   ]
  },
  {
   "cell_type": "code",
   "execution_count": null,
   "id": "c972e2a7",
   "metadata": {},
   "outputs": [],
   "source": [
    "# 3. Plot distribution plot of claim for Smoker and non smoker. What changes you see in the plot?\n",
    "\n",
    "sns.kdeplot(x=insurance[\"claim\"],hue=insurance[\"smoker\"])"
   ]
  },
  {
   "cell_type": "markdown",
   "id": "783e4fbb",
   "metadata": {},
   "source": [
    "- Claim for non-smoker is lesser than smokers.\n",
    "- Most claim of non-smoker lie in range 0-15000 and Smoker's claim is greater than 15000."
   ]
  },
  {
   "cell_type": "code",
   "execution_count": null,
   "id": "904932d8",
   "metadata": {},
   "outputs": [],
   "source": [
    "# 4. Plot the 2D probability density plot of claim and age in the insurance dataset?\n",
    "\n",
    "sns.kdeplot(x=insurance[\"age\"],y=insurance[\"claim\"],cmap=\"Blues\",fill=True,thresh=0.05)"
   ]
  },
  {
   "cell_type": "code",
   "execution_count": null,
   "id": "ee038796",
   "metadata": {},
   "outputs": [],
   "source": [
    "# 5. How does the disribution of claim changes for different region? Plot density plot and note down the observations\n",
    "\n",
    "sns.kdeplot(x=insurance[\"claim\"],hue=insurance[\"region\"])"
   ]
  },
  {
   "cell_type": "markdown",
   "id": "5d7637c2",
   "metadata": {},
   "source": [
    "- Leaving northeast, all other regions have high density around same claim amount.\n",
    "- All regions follow same trends of claims, global peak around 6000-10000 and a local peak around 4000"
   ]
  },
  {
   "cell_type": "code",
   "execution_count": null,
   "id": "2000faa0",
   "metadata": {},
   "outputs": [],
   "source": [
    "# 6. Plot PDF and CDF of claim in insurance data\n",
    "\n",
    "# Approach1 - Histogram approach to which distribution follows\n",
    "plt.hist(insurance[\"claim\"],bins=30,density=True,alpha=0.5)\n",
    "plt.show()"
   ]
  },
  {
   "cell_type": "markdown",
   "id": "869f3743",
   "metadata": {},
   "source": [
    "- As above hist plot is not normal we are going with non-parametric approach."
   ]
  },
  {
   "cell_type": "code",
   "execution_count": null,
   "id": "0f12ee18",
   "metadata": {},
   "outputs": [],
   "source": [
    "plt.figure(figsize=(10,4))\n",
    "\n",
    "# plot pdf using KDE\n",
    "plt.subplot(1,2,1)\n",
    "sns.kdeplot(insurance[\"claim\"])\n",
    "plt.xlabel(\"Variable\")\n",
    "plt.ylabel(\"Density\")\n",
    "plt.title(\"Probability Density Function (PDF)\")\n",
    "\n",
    "# plot cdf using cumulative sum of KDE\n",
    "plt.subplot(1,2,2)\n",
    "sns.kdeplot(insurance[\"claim\"],cumulative=True)\n",
    "plt.xlabel(\"Variable\")\n",
    "plt.ylabel(\"Cumulative Probability\")\n",
    "plt.title(\"Cumulative Density Function (CDF)\")\n",
    "\n",
    "plt.tight_layout()\n",
    "plt.show()"
   ]
  },
  {
   "cell_type": "code",
   "execution_count": null,
   "id": "0b6f4b07",
   "metadata": {},
   "outputs": [],
   "source": [
    "# 7. Given a probability density function f(x) = 2x for 0 <= x <= 1 and f(x) = 0 otherwise, compute the cumulative \n",
    "#distribution function F(x) and plot it. Use this to find the probability that X is greater than 0.5.\n",
    "\n",
    "def pdf(x):\n",
    "    if(0<=x<=1):\n",
    "        return 2 * x\n",
    "    else:\n",
    "        return 0\n",
    "\n",
    "def cdf(x):\n",
    "    if(0<=x<= 1):\n",
    "        return x ** 2\n",
    "    else:\n",
    "        return 1\n",
    "\n",
    "x = np.linspace(0,1,100)\n",
    "y_cdf = np.array([cdf(xi) for xi in x])\n",
    "plt.plot(x,y_cdf)\n",
    "plt.xlabel('x')\n",
    "plt.ylabel('F(x)')\n",
    "plt.title(\"Cumulative Distribution Function\")\n",
    "plt.grid(True)\n",
    "plt.show()\n",
    "\n",
    "print(\"Probability that X is greater than 0.5 is \",1 - cdf(0.5))"
   ]
  },
  {
   "cell_type": "code",
   "execution_count": null,
   "id": "ec7bd1e8",
   "metadata": {},
   "outputs": [],
   "source": [
    "# 8. In a manufacturing process, the thickness of a certain material is known to be normally distributed with a mean of \n",
    "# 1.2mm and a standard deviation of 0.05 mm. What is the probability density function of the thickness? Plot the PDF and \n",
    "# use it to compute the probability that the thickness is between 1.1 mm and 1.3 mm.\n",
    "\n",
    "def pdf(x,mean,std_dev):\n",
    "    return (1/(std_dev * np.sqrt(2 * np.pi)))*np.exp(-((x-mean)**2)/(2*std_dev**2))\n",
    "\n",
    "mean = 1.2\n",
    "std_dev = 0.05\n",
    "\n",
    "x = np.linspace(1.0,1.4,100)\n",
    "y_pdf = pdf(x,mean,std_dev)\n",
    "\n",
    "plt.plot(x,y_pdf)\n",
    "plt.xlabel(\"Thickness\")\n",
    "plt.ylabel(\"f(x)\")\n",
    "plt.title(\"Probability Density Function (PDF) of Thickness\")\n",
    "plt.grid(True)\n",
    "plt.show()\n",
    "\n",
    "print(\"Probability that the thickness is between 1.1mm and 1.3mm is \",round(integrate.quad(lambda x:pdf(x,mean,std_dev),1.1,1.3)[0],2))"
   ]
  },
  {
   "cell_type": "code",
   "execution_count": null,
   "id": "ff1148d4",
   "metadata": {},
   "outputs": [],
   "source": [
    "# 9. A data scientist is investigating the distribution of customer ages in a retail store. She collects a sample of 100 \n",
    "# ages and estimates the probability density function using kernel density estimation. What bandwidth should she choose to \n",
    "# obtain the best estimate?\n",
    "\n",
    "ages = np.random.normal(loc=40,scale=10,size=100)\n",
    "bandwidths = 10 ** np.linspace(-1,1,100)\n",
    "params = {\"bandwidth\":bandwidths,\"kernel\":[\"gaussian\"]}\n",
    "\n",
    "grid = GridSearchCV(KernelDensity(),params,cv=5)\n",
    "grid.fit(ages.reshape(-1,1))\n",
    "\n",
    "best_bandwidth = grid.best_estimator_.bandwidth\n",
    "print(\"Best Estimator : \",best_bandwidth)"
   ]
  },
  {
   "cell_type": "markdown",
   "id": "6d261de3",
   "metadata": {},
   "source": [
    "Choosing the best bandwidth for KDE involves finding a balance between overfitting and underfitting. If the bandwidth is too small, the estimated PDF may have a lot of small, spurious oscillations or noise, which may not accurately represent the underlying distribution of the data. On the other hand, if the bandwidth is too large, the estimated PDF may be overly smooth and may not capture the finer details or variations in the data.\n",
    "\n",
    "There are several methods that can be used to select the optimal bandwidth for KDE, including cross-validation, rule-of-thumb methods (e.g., Scott's rule, Silverman's rule), and optimization techniques (e.g., maximum likelihood estimation).\n",
    "\n",
    "One common rule-of-thumb method for choosing the bandwidth in KDE is Scott's rule, which is given by:\n",
    "\n",
    "h = 1.06 * sigma * n^(-1/5)\n",
    "\n",
    "where h is the bandwidth, sigma is the standard deviation of the data, and n is the number of data points in the sample. Scott's rule is often used as a default bandwidth choice in many KDE implementations."
   ]
  },
  {
   "cell_type": "code",
   "execution_count": null,
   "id": "f8f37b48",
   "metadata": {},
   "outputs": [],
   "source": [
    "# Scott rule bandwidth\n",
    "# h = 1.06 * sigma * n^(-1/5)\n",
    "h = 1.06 * 10 * (100**(-1/5))\n",
    "print(\"Scott rule bandwidth:\", h)"
   ]
  }
 ],
 "metadata": {
  "kernelspec": {
   "display_name": "Python 3 (ipykernel)",
   "language": "python",
   "name": "python3"
  },
  "language_info": {
   "codemirror_mode": {
    "name": "ipython",
    "version": 3
   },
   "file_extension": ".py",
   "mimetype": "text/x-python",
   "name": "python",
   "nbconvert_exporter": "python",
   "pygments_lexer": "ipython3",
   "version": "3.11.5"
  }
 },
 "nbformat": 4,
 "nbformat_minor": 5
}
