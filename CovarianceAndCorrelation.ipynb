{
 "cells": [
  {
   "cell_type": "markdown",
   "id": "21d93fd2",
   "metadata": {},
   "source": [
    "## Covariance and Correlation"
   ]
  },
  {
   "cell_type": "code",
   "execution_count": null,
   "id": "6226e746",
   "metadata": {},
   "outputs": [],
   "source": [
    "# Importing Packages\n",
    "\n",
    "import numpy as np\n",
    "import pandas as pd\n",
    "import matplotlib.pyplot as plt\n",
    "import seaborn as sns\n",
    "from re import X"
   ]
  },
  {
   "cell_type": "code",
   "execution_count": null,
   "id": "bbd205ec",
   "metadata": {},
   "outputs": [],
   "source": [
    "# Create Dataframe\n",
    "\n",
    "df = pd.DataFrame()\n",
    "\n",
    "x = pd.Series([12,25,68,42,113])\n",
    "y = pd.Series([11,29,58,121,100])\n",
    "\n",
    "df['x'] = x\n",
    "df['y'] = y\n",
    "\n",
    "df"
   ]
  },
  {
   "cell_type": "code",
   "execution_count": null,
   "id": "3a62b0b6",
   "metadata": {},
   "outputs": [],
   "source": [
    "# Plot Covariance\n",
    "\n",
    "fig,(ax1,ax2) = plt.subplots(1,2,figsize=(10,3)) \n",
    "\n",
    "ax1.scatter(df['x'],df['y'])\n",
    "ax2.scatter(df['x']*2,df['y']*2)\n",
    "\n",
    "ax1.set_title(\"Covariance : \" + str(np.cov(df['x'],df['y'])[0,1]))\n",
    "ax2.set_title(\"Covariance : \" + str(np.cov(df['x']*2,df['y']*2)[0,1]))"
   ]
  },
  {
   "cell_type": "code",
   "execution_count": null,
   "id": "7a23a88a",
   "metadata": {},
   "outputs": [],
   "source": [
    "# Plot Covariance\n",
    "\n",
    "fig,(ax1,ax2,ax3) = plt.subplots(1,3,figsize=(10,3)) \n",
    "\n",
    "ax1.scatter(df['x'],df['x'])\n",
    "ax2.scatter(df['x'],df['y'])\n",
    "ax3.scatter(df['x']*2,df['y']*2)\n",
    "\n",
    "ax1.set_title(\"Covariance : \" + str(np.cov(df['x'],df['x'])[0,1]))\n",
    "ax2.set_title(\"Covariance : \" + str(np.cov(df['x'],df['y'])[0,1]))\n",
    "ax3.set_title(\"Covariance : \" + str(np.cov(df['x']*2,df['y']*2)[0,1]))"
   ]
  },
  {
   "cell_type": "code",
   "execution_count": null,
   "id": "2515bf21",
   "metadata": {},
   "outputs": [],
   "source": [
    "# Plot Correlation\n",
    "\n",
    "fig,(ax1,ax2) = plt.subplots(1,2,figsize=(10,3)) \n",
    "\n",
    "ax1.scatter(df['x'],df['x'])\n",
    "ax2.scatter(df['x'],df['y'])\n",
    "\n",
    "ax1.set_title(\"Correlation : \" + str(df['x'].corr(df['x'])))\n",
    "ax2.set_title(\"Correlation : \" + str(df['x'].corr(df['y'])))"
   ]
  },
  {
   "cell_type": "code",
   "execution_count": null,
   "id": "bbcd6f2e",
   "metadata": {},
   "outputs": [],
   "source": [
    "# Plot Correlation\n",
    "\n",
    "fig,(ax1,ax2) = plt.subplots(1,2,figsize=(10,3)) \n",
    "\n",
    "ax1.scatter(df['x'],df['x'])\n",
    "ax2.scatter(df['x']*2,df['y']*2)\n",
    "\n",
    "ax1.set_title(\"Correlation : \" + str(df['x'].corr(df['y'])))\n",
    "ax2.set_title(\"Correlation : \" + str((df['x']*2).corr(df['y']*2)))"
   ]
  }
 ],
 "metadata": {
  "kernelspec": {
   "display_name": "Python 3 (ipykernel)",
   "language": "python",
   "name": "python3"
  },
  "language_info": {
   "codemirror_mode": {
    "name": "ipython",
    "version": 3
   },
   "file_extension": ".py",
   "mimetype": "text/x-python",
   "name": "python",
   "nbconvert_exporter": "python",
   "pygments_lexer": "ipython3",
   "version": "3.11.5"
  }
 },
 "nbformat": 4,
 "nbformat_minor": 5
}
