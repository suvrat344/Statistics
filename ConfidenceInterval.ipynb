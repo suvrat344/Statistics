{
 "cells": [
  {
   "cell_type": "markdown",
   "id": "7a29c773",
   "metadata": {},
   "source": [
    "## Question on Confidence Interval"
   ]
  },
  {
   "cell_type": "code",
   "execution_count": null,
   "id": "5258e261",
   "metadata": {},
   "outputs": [],
   "source": [
    "import numpy as np\n",
    "import pandas as pd\n",
    "import scipy\n",
    "import matplotlib.pyplot as plt\n",
    "import seaborn as sns"
   ]
  },
  {
   "cell_type": "code",
   "execution_count": null,
   "id": "e01d441f",
   "metadata": {},
   "outputs": [],
   "source": [
    "# A company wants to estimate the average time spent by customers on their website per session. They collect a random \n",
    "# sample of 100 customers and find that the sample mean time spent is 4.5 minutes with a sample standard deviation of 1.2 \n",
    "# minutes. Calculate a 99% confidence interval for the true population mean time spent on the website per session.\n",
    "\n",
    "x_bar = 4.5\n",
    "s = 1.2\n",
    "n = 100\n",
    "alpha = 0.01\n",
    "\n",
    "t_score = scipy.stats.t.ppf(1-alpha/2,n-1)\n",
    "lower_bound = x_bar - t_score * s / (n**0.5)\n",
    "upper_bound = x_bar + t_score * s / (n**0.5)\n",
    "print(f\"The 99% confidence interval for the true population mean time spent on the website per session is ({lower_bound:.2f}, {upper_bound:.2f}) minutes.\")"
   ]
  },
  {
   "cell_type": "markdown",
   "id": "f27ae444",
   "metadata": {},
   "source": [
    "## Solution-1\n",
    "\n",
    "First, we need to calculate the margin of error using the formula:\n",
    "\n",
    "Margin of Error = z*(sigma/√n)\n",
    "where z is the z-score associated with our level of confidence (99% in this case), sigma is the population standard deviation (unknown), and n is the sample size (100 in this case).\n",
    "\n",
    "Since we don't know the population standard deviation, we'll use the sample standard deviation as an estimate. The formula for calculating the t-score associated with our level of confidence and degrees of freedom (df = n - 1) is:\n",
    "\n",
    "t = t.ppf(1 - alpha/2, df=n-1)\n",
    "where alpha is 1 - our level of confidence (0.01 in this case).\n",
    "\n",
    "Now we can calculate the margin of error using:\n",
    "\n",
    "Margin of Error = t*(s/√n)\n",
    "where s is the sample standard deviation (1.2 in this case).\n",
    "\n",
    "Finally, we can calculate the confidence interval using:\n",
    "\n",
    "  Confidence Interval = x̄ ± Margin of Error\n",
    "where x̄ is the sample mean (4.5 in this case).\n",
    "\n",
    "Putting it all together, we get:\n",
    "\n",
    "Margin of Error = t*(s/√n) = 2.626*(1.2/√100) = 0.315\n",
    "Confidence Interval = x̄ ± Margin of Error = 4.5 ± 0.315 = [4.185, 4.815]\n",
    "Therefore, we can be 99% confident that the true population mean time spent on the website per session falls between 4.185 and 4.815 minutes."
   ]
  },
  {
   "cell_type": "code",
   "execution_count": null,
   "id": "e363470e",
   "metadata": {},
   "outputs": [],
   "source": [
    "# A car manufacturer is interested in estimating the mean gas mileage of their new SUV. A sample of 25 SUVs is taken, and \n",
    "# their mean gas mileage is found to be 28.6 miles per gallon with a standard deviation of 2.8 miles per gallon. Calculate \n",
    "# a 95% confidence interval for the true mean gas mileage of the SUV.\n",
    "\n",
    "x_bar = 28.6\n",
    "s = 2.8\n",
    "n = 25\n",
    "alpha = 0.05\n",
    "\n",
    "t_score = scipy.stats.t.ppf(1-alpha/2,n-1)\n",
    "ci  = x_bar + np.array([-1,1])*t_score * s/(n**0.5)\n",
    "print(f\"95% Confidence interval: {ci}\")"
   ]
  },
  {
   "cell_type": "code",
   "execution_count": null,
   "id": "5c3013f5",
   "metadata": {},
   "outputs": [],
   "source": [
    "# A climate research organization wants to estimate the average temperature of a certain country. They collect temperature \n",
    "# data for 2613 days but due to certain limitations, they only have information about the average temperature for 2508 \n",
    "# days.The organization assumes that the population follows a normal distribution and wants to estimate the population \n",
    "# mean temperature with a 95% confidence interval.\n",
    "# a) Standard deviation is assumed as given data standard deviation. z Procedure\n",
    "# b) Standard deviation is not given. Apply t Procedure\n",
    "\n",
    "ind_data = pd.read_csv(\"ind_temp.csv\")\n",
    "\n",
    "samples = []\n",
    "stds = []\n",
    "alpha = 0.05\n",
    "\n",
    "for i in range(200):\n",
    "    d = ind_data[\"AverageTemperature\"].dropna().sample(50).values\n",
    "    stds.append(d.std())\n",
    "    samples.append(d.tolist())\n",
    "    \n",
    "samples = np.array(samples)\n",
    "x_bar = samples.mean(axis = 1)\n",
    "s = np.mean(stds)\n",
    "sns.kdeplot(x_bar)\n",
    "\n",
    "t_score = scipy.stats.t.ppf(1-alpha/2,49)\n",
    "ci = x_bar.mean() + np.array([-1,1])*t_score*s/(50**0.5)\n",
    "print(\"Interval for 95% confidence(t-procedure):\",ci)\n",
    "print(\"Actual data mean temprature\",ind_data.AverageTemperature.mean())"
   ]
  },
  {
   "cell_type": "code",
   "execution_count": null,
   "id": "224190af",
   "metadata": {},
   "outputs": [],
   "source": [
    "std = ind_data[\"AverageTemperature\"].std()\n",
    "z_score = scipy.stats.norm.ppf(1-alpha/2)\n",
    "ci = x_bar.mean() + np.array([-1,1]) * z_score * std/(50**0.5)\n",
    "print(\"Interval for 95% confidence(z-procedure):\",ci)\n",
    "print(\"Actual data mean temprature\",ind_data.AverageTemperature.mean())"
   ]
  },
  {
   "cell_type": "code",
   "execution_count": null,
   "id": "6e3bab90",
   "metadata": {},
   "outputs": [],
   "source": [
    "# Task 1: The sales manager of a used car company wants to know what is the average selling price of all the used bmw \n",
    "# cars. The analyst can collect only a sample of sales of 500 cars in the area. Since this estimate is going to be used by \n",
    "# the company to strategize sales of his company, the sample mean should be a good approximation of all the account. What \n",
    "# level of confidence is the sales manager going to be satisfied with? What +/- interval number is going to be acceptable?\n",
    "# Task 2: In addition to the price of the car, the manager also wants to now know the average mileage that the car has been\n",
    "# driven. But the manager does not have the population standard deviation for the mileage. But the mileage data is \n",
    "# available only from the 25 cars that they have sold so far. How do the analyst approach this problem to calculate 95% \n",
    "# confidence interval, with only 25 samples?\n",
    "# Task 3: The manager is not happy with both the intervals (intervals from task 1 and 2) as the interval for the confidence\n",
    "# is very high. The manager now asks the analyst to estimate the average price of the car (similar to task 1) but within a \n",
    "# bound of 750 from the mean with 95% condidence level. How many sample does the analyst have to collect to arrive at this \n",
    "# confidence interval level?\n",
    "# Task 4: Conversely, after the analyst started collecting the data, after a week he was only able to collect for 420 \n",
    "# samples, though he needs 540 samples for Bound of 1,000, if he has to do the analysis now, what is the best interval he \n",
    "# can acheive for 95% confidence levels?\n",
    "\n",
    "bmw = pd.read_csv(\"bmw.csv\")\n",
    "bmw"
   ]
  },
  {
   "cell_type": "markdown",
   "id": "8768d625",
   "metadata": {},
   "source": [
    "<h3> Task1 </h3>\n",
    "To determine the level of confidence the sales manager is going to be satisfied with, we need to consider the level of risk he is willing to take. For example, if the sales manager is willing to take a risk of being incorrect 5% of the time, he would want a 95% confidence interval.\n",
    "\n",
    "To calculate the interval estimate, we need to calculate the mean and standard deviation of the sample, as well as the sample size, and the level of confidence."
   ]
  },
  {
   "cell_type": "code",
   "execution_count": null,
   "id": "619892e5",
   "metadata": {},
   "outputs": [],
   "source": [
    "sample_size = 500\n",
    "alpha = 0.05\n",
    "\n",
    "sample = bmw.sample(sample_size,random_state=42)\n",
    "x_bar = sample[\"price\"].mean()\n",
    "sigma = sample[\"price\"].std()\n",
    "\n",
    "z_score = scipy.stats.norm.ppf(1-alpha/2)\n",
    "ci = x_bar + np.array([-1,1]) * z_score * sigma/(sample_size**0.5)\n",
    "print(\"Interval for 95% confidence:\",ci)"
   ]
  },
  {
   "cell_type": "markdown",
   "id": "ae5a8781",
   "metadata": {},
   "source": [
    "<h3> Task2 </h3>\n",
    "For question 2, we want to calculate the 95% confidence interval for the average mileage of BMW cars sold by the used car company. We have only 25 sample data points for mileage, and we do not know the population standard deviation.\n",
    "\n",
    "Since we do not know the population standard deviation, we will use the t-distribution instead of the z-distribution. We will use the t-distribution with 24 degrees of freedom (n-1) to calculate the critical value for the 95% confidence level.\n",
    "\n",
    "First, we calculate the sample mean and sample standard deviation of the 25 sample data points for mileage:"
   ]
  },
  {
   "cell_type": "code",
   "execution_count": null,
   "id": "4728a0cb",
   "metadata": {},
   "outputs": [],
   "source": [
    "sample_size = 25\n",
    "sample = bmw.sample(sample_size,random_state=1)\n",
    "x_bar = sample[\"mileage\"].mean()\n",
    "s = sample[\"mileage\"].std()\n",
    "\n",
    "t_score = scipy.stats.t.ppf(1-alpha/2,sample_size-1)\n",
    "ci = x_bar + np.array([-1,1])*t_score*s/(sample_size**0.5)\n",
    "print(\"Interval for 95% confidence:\",ci)"
   ]
  },
  {
   "cell_type": "markdown",
   "id": "547b6161",
   "metadata": {},
   "source": [
    "<h3> Task3 </h3>\n",
    "\n",
    "To calculate the required sample size for price estimation with in 750 margin, we need to use the following formula:\n",
    "\n",
    "- The size of the sample is affected by parameters such as:\n",
    "- Bound that we need our interval to be within. This is represented by B. In question 3, B = 750\n",
    "- The confidence level (1−𝛼). In question 3 this is 95%\n",
    "- What is the estimate of variance (of standard deviation) of the population?\n",
    "\n",
    "The minimum number of required samples to estimate the population mean μ is:\n",
    "\n",
    "$$ n = \\dfrac{Z^2 _{\\alpha / 2} \\sigma^2}{B^2} $$\n",
    "\n",
    "Where,\n",
    "n = sample size\n",
    "z = z-score for the desired confidence level (95%)\n",
    "std = standard deviation of the population (unknown in this case)\n",
    "B = margin of error (750)\n",
    "\n",
    "To calculate the sample size, we need to estimate the standard deviation. We can use the standard deviation of the sample as an estimate for the population standard deviation.\n",
    "\n",
    "First, let's calculate the sample standard deviation:"
   ]
  },
  {
   "cell_type": "code",
   "execution_count": null,
   "id": "a08eb388",
   "metadata": {},
   "outputs": [],
   "source": [
    "sample_mean = []\n",
    "sample_std = []\n",
    "\n",
    "for i in range(500):\n",
    "    sample = bmw[\"price\"].sample(n=50)\n",
    "    sample_mean.append(sample.mean())\n",
    "    sample_std.append(sample.std())\n",
    "    \n",
    "s = np.mean(sample_std)\n",
    "B = 750\n",
    "alpha = 0.05\n",
    "z_score = scipy.stats.norm.ppf(1-alpha/2)\n",
    " \n",
    "n = ((z_score * s)/B)**2\n",
    "print(n)"
   ]
  },
  {
   "cell_type": "markdown",
   "id": "a249f685",
   "metadata": {},
   "source": [
    "<h3> Task4 </h3>\n",
    "Conversely, after the analyst started collecting the data, after a week he was only able to collect for 420 samples, though he needs 857 samples for B of 750(from question 3), if he has to do the analysis now, what is the best interval he can acheive for 95% confidence levels?\n",
    "\n",
    "\n",
    "This is converse senario to the question 3. From the formula for the sample size determination we can come up with the formula for calculating the bounds:\n",
    "\n",
    "$$ n = \\dfrac{Z^2 _{\\alpha / 2} \\sigma^2}{B^2} $$\n",
    "\n",
    "$$ B = Z _{\\alpha / 2} \\dfrac{\\sigma}{\\sqrt n} $$"
   ]
  },
  {
   "cell_type": "code",
   "execution_count": null,
   "id": "202ad4be",
   "metadata": {},
   "outputs": [],
   "source": [
    "sample_size = 420\n",
    "sample_std = bmw[\"price\"].sample(sample_size).std()\n",
    "z_score = 1.96\n",
    "\n",
    "B = z_score * sample_std/(sample_size)**0.5\n",
    "print(B)"
   ]
  }
 ],
 "metadata": {
  "kernelspec": {
   "display_name": "Python 3 (ipykernel)",
   "language": "python",
   "name": "python3"
  },
  "language_info": {
   "codemirror_mode": {
    "name": "ipython",
    "version": 3
   },
   "file_extension": ".py",
   "mimetype": "text/x-python",
   "name": "python",
   "nbconvert_exporter": "python",
   "pygments_lexer": "ipython3",
   "version": "3.11.5"
  }
 },
 "nbformat": 4,
 "nbformat_minor": 5
}
