{
 "cells": [
  {
   "cell_type": "markdown",
   "id": "7bfefb58",
   "metadata": {},
   "source": [
    "# Chi Square Test Of Independence"
   ]
  },
  {
   "cell_type": "code",
   "execution_count": null,
   "id": "a64215d5",
   "metadata": {},
   "outputs": [],
   "source": [
    "# Import Packages\n",
    "\n",
    "import numpy as np\n",
    "import pandas as pd\n",
    "import scipy.stats as stats\n",
    "from scipy.stats import chi2,chi2_contingency"
   ]
  },
  {
   "cell_type": "markdown",
   "id": "2267708a",
   "metadata": {},
   "source": [
    "### Dataset1"
   ]
  },
  {
   "cell_type": "code",
   "execution_count": null,
   "id": "a222cb05",
   "metadata": {},
   "outputs": [],
   "source": [
    "# Import Dataset\n",
    "\n",
    "titanic = pd.read_csv(\"titanic.csv\")\n",
    "titanic.head()"
   ]
  },
  {
   "cell_type": "code",
   "execution_count": null,
   "id": "b1e80a1c",
   "metadata": {},
   "outputs": [],
   "source": [
    "# We will use the Chi-Square test for independence to see if the survival rate of passengers is independent of the passenger \n",
    "# class.\n",
    "\n",
    "contingency_table = pd.crosstab(titanic[\"Survived\"],titanic[\"Pclass\"])\n",
    "contingency_table"
   ]
  },
  {
   "cell_type": "code",
   "execution_count": null,
   "id": "21fec43c",
   "metadata": {},
   "outputs": [],
   "source": [
    "# Perform Chi Square Test\n",
    "\n",
    "chi2,p_value,dof,expected = chi2_contingency(contingency_table)\n",
    "\n",
    "print(\"Chi Square Statistic : {:.2f}\".format(chi2))\n",
    "print(\"p_value : {:.2f}\".format(p_value))\n",
    "print(\"Degree Of Freedom : {}\".format(dof))\n",
    "print(\"Expected Frequencies : {}\".format(expected))"
   ]
  },
  {
   "cell_type": "code",
   "execution_count": null,
   "id": "6e93b6b0",
   "metadata": {},
   "outputs": [],
   "source": [
    "# Interpret Result\n",
    "\n",
    "alpha = 0.05\n",
    "\n",
    "if(p_value < alpha):\n",
    "    print(\"We reject the null hypothesis. There is a significant association between passenger class and survival rate.\")\n",
    "else:\n",
    "    print(\"We fail to reject the null hypothesis.There is no significant association between passenger class and survival rate.\")"
   ]
  },
  {
   "cell_type": "markdown",
   "id": "f8a028b8",
   "metadata": {},
   "source": [
    "### Dataset2"
   ]
  },
  {
   "cell_type": "code",
   "execution_count": null,
   "id": "20912eeb",
   "metadata": {},
   "outputs": [],
   "source": [
    "# Import Dataset\n",
    "\n",
    "df = pd.read_csv(\"ChiSquareTestOfIndependence.csv\")"
   ]
  },
  {
   "cell_type": "code",
   "execution_count": null,
   "id": "c16b9487",
   "metadata": {},
   "outputs": [],
   "source": [
    "# Return Top 5 Rows From Dataset\n",
    "\n",
    "df.head()"
   ]
  },
  {
   "cell_type": "code",
   "execution_count": null,
   "id": "e8630809",
   "metadata": {},
   "outputs": [],
   "source": [
    "# Step-1 : Make Contingency Table (Observed Frequency)\n",
    "\n",
    "countingTab = pd.crosstab(df.City,df.Brand,margins=True)\n",
    "countingTab"
   ]
  },
  {
   "cell_type": "code",
   "execution_count": null,
   "id": "900c995a",
   "metadata": {},
   "outputs": [],
   "source": [
    "# Step-2 : Calculate Expected Frequency\n",
    "\n",
    "cities = list(df[\"City\"].unique())\n",
    "brands = list(df[\"Brand\"].unique())\n",
    "exp1 = {}\n",
    "\n",
    "for i in cities:\n",
    "    exp2 = {}\n",
    "    for j in brands:\n",
    "        exp2[j] = countingTab.transpose()[i][\"All\"] * countingTab[j][\"All\"] / countingTab[\"All\"][\"All\"]\n",
    "    exp1[i] = exp2\n",
    "print(exp1)"
   ]
  },
  {
   "cell_type": "code",
   "execution_count": null,
   "id": "d68a3fb5",
   "metadata": {},
   "outputs": [],
   "source": [
    "# Step-3 : Calculate Chi Square\n",
    "\n",
    "chiSquareCal = 0\n",
    "for i in cities:\n",
    "    for j in brands:\n",
    "        chiSquareCal += (countingTab.transpose()[i][j] - exp1[i][j])**2 / exp1[i][j]\n",
    "print(chiSquareCal)    "
   ]
  },
  {
   "cell_type": "code",
   "execution_count": null,
   "id": "80925a83",
   "metadata": {},
   "outputs": [],
   "source": [
    "# Step-4 Calculate Degree Of Freedom\n",
    "\n",
    "dof = (len(cities)-1) * (len(brands)-1)\n",
    "print(dof)"
   ]
  },
  {
   "cell_type": "code",
   "execution_count": null,
   "id": "d69575ca",
   "metadata": {},
   "outputs": [],
   "source": [
    "# Step-5 Tabulated Value Of Chi Square\n",
    "\n",
    "chiSquareTab = stats.chi2.ppf(0.95,df=dof)\n",
    "print(chiSquareTab)"
   ]
  },
  {
   "cell_type": "code",
   "execution_count": null,
   "id": "271e3666",
   "metadata": {},
   "outputs": [],
   "source": [
    "# Interpret Result\n",
    "\n",
    "if(chiSquareCal > chiSquareTab):\n",
    "    print(\"Reject Null Hypthesis\")\n",
    "else:\n",
    "    print(\"Accept Null Hypothesis\")"
   ]
  },
  {
   "cell_type": "code",
   "execution_count": null,
   "id": "5ddfb11e",
   "metadata": {},
   "outputs": [],
   "source": [
    "# Shortcut To Chi Square Test\n",
    "\n",
    "countTab = np.array([countingTab.transpose()[\"Chennai\"][0:3].values,countingTab.transpose()[\"Mumbai\"][0:3].values])\n",
    "chi2_contingency(countTab)"
   ]
  }
 ],
 "metadata": {
  "kernelspec": {
   "display_name": "Python 3 (ipykernel)",
   "language": "python",
   "name": "python3"
  },
  "language_info": {
   "codemirror_mode": {
    "name": "ipython",
    "version": 3
   },
   "file_extension": ".py",
   "mimetype": "text/x-python",
   "name": "python",
   "nbconvert_exporter": "python",
   "pygments_lexer": "ipython3",
   "version": "3.11.5"
  }
 },
 "nbformat": 4,
 "nbformat_minor": 5
}
