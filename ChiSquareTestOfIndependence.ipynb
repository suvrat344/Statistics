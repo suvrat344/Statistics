{
 "cells": [
  {
   "cell_type": "markdown",
   "id": "7bfefb58",
   "metadata": {},
   "source": [
    "## Chi Square Test Of Independence"
   ]
  },
  {
   "cell_type": "code",
   "execution_count": null,
   "id": "a64215d5",
   "metadata": {},
   "outputs": [],
   "source": [
    "# Import Packages\n",
    "import numpy as np\n",
    "import pandas as pd\n",
    "from scipy import stats"
   ]
  },
  {
   "cell_type": "code",
   "execution_count": null,
   "id": "20912eeb",
   "metadata": {},
   "outputs": [],
   "source": [
    "# Import Dataset\n",
    "df = pd.read_csv(\"chiSquare.csv\")"
   ]
  },
  {
   "cell_type": "code",
   "execution_count": null,
   "id": "c16b9487",
   "metadata": {},
   "outputs": [],
   "source": [
    "# Return Top 5 Rows From Dataset\n",
    "df.head()"
   ]
  },
  {
   "cell_type": "code",
   "execution_count": null,
   "id": "e8630809",
   "metadata": {},
   "outputs": [],
   "source": [
    "# Step-1 : Make Contingency Table (Observed Frequency)\n",
    "countingTab = pd.crosstab(df.City,df.Brand,margins=True)\n",
    "countingTab"
   ]
  },
  {
   "cell_type": "code",
   "execution_count": null,
   "id": "900c995a",
   "metadata": {},
   "outputs": [],
   "source": [
    "# Step-2 : Calculate Expected Frequency\n",
    "cities = list(df[\"City\"].unique())\n",
    "brands = list(df[\"Brand\"].unique())\n",
    "exp1 = {}\n",
    "\n",
    "for i in cities:\n",
    "    exp2 = {}\n",
    "    for j in brands:\n",
    "        exp2[j] = countingTab.transpose()[i][\"All\"] * countingTab[j][\"All\"] / countingTab[\"All\"][\"All\"]\n",
    "    exp1[i] = exp2\n",
    "print(exp1)"
   ]
  },
  {
   "cell_type": "code",
   "execution_count": null,
   "id": "d68a3fb5",
   "metadata": {},
   "outputs": [],
   "source": [
    "# Step-3 : Calculate Chi Square\n",
    "chiSquareCal = 0\n",
    "for i in cities:\n",
    "    for j in brands:\n",
    "        chiSquareCal += (countingTab.transpose()[i][j] - exp1[i][j])**2 / exp1[i][j]\n",
    "print(chiSquareCal)    "
   ]
  },
  {
   "cell_type": "code",
   "execution_count": null,
   "id": "80925a83",
   "metadata": {},
   "outputs": [],
   "source": [
    "# Step-4 Calculate Degree Of Freedom\n",
    "dof = (len(cities)-1) * (len(brands)-1)\n",
    "print(dof)"
   ]
  },
  {
   "cell_type": "code",
   "execution_count": null,
   "id": "d69575ca",
   "metadata": {},
   "outputs": [],
   "source": [
    "# Step-5 Tabulated Value Of Chi Square\n",
    "chiSquareTab = stats.chi2.ppf(0.95,df=dof)\n",
    "print(chiSquareTab)"
   ]
  },
  {
   "cell_type": "code",
   "execution_count": null,
   "id": "271e3666",
   "metadata": {},
   "outputs": [],
   "source": [
    "if(chiSquareCal > chiSquareTab):\n",
    "    print(\"Reject Null Hypthesis\")\n",
    "else:\n",
    "    print(\"Accept Null Hypothesis\")"
   ]
  },
  {
   "cell_type": "code",
   "execution_count": null,
   "id": "5ddfb11e",
   "metadata": {},
   "outputs": [],
   "source": [
    "# Shortcut To Chi Square Test\n",
    "countTab = np.array([countingTab.transpose()[\"Chennai\"][0:3].values,countingTab.transpose()[\"Mumbai\"][0:3].values])\n",
    "stats.chi2_contingency(countTab)"
   ]
  }
 ],
 "metadata": {
  "kernelspec": {
   "display_name": "Python 3 (ipykernel)",
   "language": "python",
   "name": "python3"
  },
  "language_info": {
   "codemirror_mode": {
    "name": "ipython",
    "version": 3
   },
   "file_extension": ".py",
   "mimetype": "text/x-python",
   "name": "python",
   "nbconvert_exporter": "python",
   "pygments_lexer": "ipython3",
   "version": "3.11.5"
  }
 },
 "nbformat": 4,
 "nbformat_minor": 5
}
