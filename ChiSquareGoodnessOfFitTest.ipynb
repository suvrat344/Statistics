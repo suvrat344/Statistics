{
 "cells": [
  {
   "cell_type": "markdown",
   "id": "b94c0f7d",
   "metadata": {},
   "source": [
    "## Chi Square Goodness Of Fit Test On Uniform Distribution"
   ]
  },
  {
   "cell_type": "code",
   "execution_count": null,
   "id": "358096f1",
   "metadata": {},
   "outputs": [],
   "source": [
    "# Importing Basic Packages\n",
    "\n",
    "import numpy as np\n",
    "import pandas as pd\n",
    "import matplotlib.pyplot as plt\n",
    "import statsmodels.api as sm\n",
    "import scipy.stats as stats\n",
    "from scipy.stats import norm,uniform,poisson,chisquare,chi2\n",
    "from statsmodels.graphics.gofplots import qqplot"
   ]
  },
  {
   "cell_type": "code",
   "execution_count": null,
   "id": "49f956cb",
   "metadata": {},
   "outputs": [],
   "source": [
    "# Reading The Data\n",
    "\n",
    "df = pd.read_csv(\"UniformData.csv\")"
   ]
  },
  {
   "cell_type": "code",
   "execution_count": null,
   "id": "e4b20722",
   "metadata": {},
   "outputs": [],
   "source": [
    "# Print Top 5 Rows From Data\n",
    "\n",
    "df.head()"
   ]
  },
  {
   "cell_type": "code",
   "execution_count": null,
   "id": "ac9cf289",
   "metadata": {},
   "outputs": [],
   "source": [
    "# Print Shape Of The Data\n",
    "\n",
    "df.shape"
   ]
  },
  {
   "cell_type": "code",
   "execution_count": null,
   "id": "c94efd33",
   "metadata": {},
   "outputs": [],
   "source": [
    "# Visualize The Data As A Histogram\n",
    "\n",
    "plt.hist(df[\"obs\"])\n",
    "plt.show()"
   ]
  },
  {
   "cell_type": "code",
   "execution_count": null,
   "id": "7c57659a",
   "metadata": {},
   "outputs": [],
   "source": [
    "# Get The Descriptive Statistics For The Data\n",
    "\n",
    "df.describe()"
   ]
  },
  {
   "cell_type": "code",
   "execution_count": null,
   "id": "7a6c3cb2",
   "metadata": {},
   "outputs": [],
   "source": [
    "# Some Additional Descriptive Statistics\n",
    "\n",
    "stats_labels = [\"Variance Observed\",\"Skew Observed\",\"Kurt Observed\"]\n",
    "stats_values = [round(df[\"obs\"].var(),2),round(df[\"obs\"].skew(),2),round(df[\"obs\"].kurt(),2)]\n",
    "print(set(zip(stats_labels,stats_values)))"
   ]
  },
  {
   "cell_type": "code",
   "execution_count": null,
   "id": "0805ae79",
   "metadata": {},
   "outputs": [],
   "source": [
    "# Plot QQ To Compare The Quantiles (Amplify The Differences In The Tail)\n",
    "\n",
    "sm.qqplot(df[\"obs\"],uniform,fit=True,line='45')\n",
    "plt.show()"
   ]
  },
  {
   "cell_type": "code",
   "execution_count": null,
   "id": "d69abdb1",
   "metadata": {},
   "outputs": [],
   "source": [
    "# Plot PP To Compare The Quantiles (Amplify The Differences In The Center)\n",
    "\n",
    "stats.probplot(df[\"obs\"],dist=uniform,plot=plt)\n",
    "plt.show()"
   ]
  },
  {
   "cell_type": "markdown",
   "id": "31ea1b11",
   "metadata": {},
   "source": [
    "*Null Hypothesis : The given data follows Uniform Distribution*<br>\n",
    "*Alternate Hypothesis : The given data does not follow Uniform Distribution.*"
   ]
  },
  {
   "cell_type": "code",
   "execution_count": null,
   "id": "0a40c6bf",
   "metadata": {},
   "outputs": [],
   "source": [
    "# Step-1 In Chi Square Goodness Of Fit : Create Bins\n",
    "\n",
    "df[\"bins\"] = pd.cut(df[\"obs\"],bins=10)\n",
    "df"
   ]
  },
  {
   "cell_type": "code",
   "execution_count": null,
   "id": "3813dd82",
   "metadata": {},
   "outputs": [],
   "source": [
    "# Step-2 In Chi Square Goodness Of Fit : Count Number Of Obserations In Each Bin\n",
    "\n",
    "df_2 = pd.DataFrame()\n",
    "df_2[\"Observed Frequency\"] = df.groupby(\"bins\").count()\n",
    "df_2"
   ]
  },
  {
   "cell_type": "code",
   "execution_count": null,
   "id": "7756a3e7",
   "metadata": {},
   "outputs": [],
   "source": [
    "# Step-3 In Chi Square Goodness Of Fit : Determine The Expected Number Of Observations In Each Bin\n",
    "\n",
    "mean = df_2[\"Observed Frequency\"].mean()\n",
    "df_2[\"Expected Frequency\"] = mean\n",
    "df_2"
   ]
  },
  {
   "cell_type": "code",
   "execution_count": null,
   "id": "ca74edcd",
   "metadata": {},
   "outputs": [],
   "source": [
    "# Step-4A In Chi Square Goodness Of Square Fit : Determine The Test Statistics And P-value\n",
    "\n",
    "chisquare(df_2[\"Observed Frequency\"],df_2[\"Expected Frequency\"])"
   ]
  },
  {
   "cell_type": "markdown",
   "id": "85228f43",
   "metadata": {},
   "source": [
    "*Conclusion*<br>\n",
    "*Reject The Null If The Pvalue < Level Of Siginificance*<br>\n",
    "*Do Not Reject The Null If the Pvalue >= Level Of Siginificance*<br>\n",
    "*Say The Level Of Siginifance is 5%,Then For Given Data Set,P-value (0.694)>0.05-->Do Not Reject Null*<br>\n",
    "*Note : For Any Leel Of Siginificance -->70%,We Do Not Reject The Null For The Current Data Set.*<br>"
   ]
  },
  {
   "cell_type": "code",
   "execution_count": null,
   "id": "2c866b20",
   "metadata": {},
   "outputs": [],
   "source": [
    "# Step-4B In Chi Square Goodness Of Square Fit : Determine The Tabulated Value Of The Test Statistics\n",
    "\n",
    "chi2.ppf(0.95,len(df_2)-2-1)"
   ]
  },
  {
   "cell_type": "markdown",
   "id": "9b0ba0dd",
   "metadata": {},
   "source": [
    "*Conclusion*<br>\n",
    "*Reject The Null If The Tabulated Test Statistic Value < Computed Test Statistics Value*<br>\n",
    "*Do Not Reject The Null If The Tabulated Test Statistics Value >=  Computed Test Statistics Value*"
   ]
  },
  {
   "cell_type": "markdown",
   "id": "eee0653d",
   "metadata": {},
   "source": [
    "## Chi Square Goodness Of Fit Test On Poisson Distribution"
   ]
  },
  {
   "cell_type": "code",
   "execution_count": null,
   "id": "b015e977",
   "metadata": {},
   "outputs": [],
   "source": [
    "# Reading The Data\n",
    "\n",
    "df = pd.read_csv(\"PoissonData1.csv\")"
   ]
  },
  {
   "cell_type": "code",
   "execution_count": null,
   "id": "347da18f",
   "metadata": {},
   "outputs": [],
   "source": [
    "# Print Top 5 Rows From Data\n",
    "\n",
    "df.head()"
   ]
  },
  {
   "cell_type": "code",
   "execution_count": null,
   "id": "5871b8a8",
   "metadata": {},
   "outputs": [],
   "source": [
    "# Print Shape Of The Data\n",
    "\n",
    "df.shape"
   ]
  },
  {
   "cell_type": "code",
   "execution_count": null,
   "id": "8e9fad37",
   "metadata": {},
   "outputs": [],
   "source": [
    "# Visualize The Data As A Histogram\n",
    "\n",
    "plt.hist(df[\"obs\"])\n",
    "plt.show()"
   ]
  },
  {
   "cell_type": "code",
   "execution_count": null,
   "id": "b05e8047",
   "metadata": {},
   "outputs": [],
   "source": [
    "# Get The Descriptive Statistics For The Data\n",
    "\n",
    "df.describe()"
   ]
  },
  {
   "cell_type": "code",
   "execution_count": null,
   "id": "53e6b128",
   "metadata": {},
   "outputs": [],
   "source": [
    "# Some Additional Descriptive Statistics\n",
    "\n",
    "stats_labels = [\"Variance Observed\",\"Skew Observed\",\"Kurt Observed\"]\n",
    "stats_values = [round(df[\"obs\"].var(),2),round(df[\"obs\"].skew(),2),round(df[\"obs\"].kurt(),2)]\n",
    "print(set(zip(stats_labels,stats_values)))"
   ]
  },
  {
   "cell_type": "code",
   "execution_count": null,
   "id": "067ff86e",
   "metadata": {},
   "outputs": [],
   "source": [
    "# Plot QQ To Compare The Quantiles (Amplify The Differences In The Tail)\n",
    "\n",
    "sm.qqplot(df[\"obs\"], poisson(np.mean(df[\"obs\"])), line='45')\n",
    "plt.show()"
   ]
  },
  {
   "cell_type": "code",
   "execution_count": null,
   "id": "6d5c6d0b",
   "metadata": {},
   "outputs": [],
   "source": [
    "# Plot PP To Compare The Quantiles (Amplify The Differences In The Center)\n",
    "\n",
    "stats.probplot(df[\"obs\"],dist=\"poisson\",sparams=(np.mean(df[\"obs\"]),),plot=plt)\n",
    "plt.show()"
   ]
  },
  {
   "cell_type": "markdown",
   "id": "96f3de51",
   "metadata": {},
   "source": [
    "*Null Hypothesis : The given data follows Poisson Distribution*<br>\n",
    "*Alternate Hypothesis : The given data does not follow Poisson Distribution.*"
   ]
  },
  {
   "cell_type": "code",
   "execution_count": null,
   "id": "33d9e091",
   "metadata": {},
   "outputs": [],
   "source": [
    "# Step-1 In Chi Square Goodness Of Fit : Create Bins\n",
    "\n",
    "df[\"bins\"] = pd.cut(df[\"obs\"],bins=10)\n",
    "df"
   ]
  },
  {
   "cell_type": "code",
   "execution_count": null,
   "id": "b22847d2",
   "metadata": {},
   "outputs": [],
   "source": [
    "# Step-2 In Chi Square Goodness Of Fit : Count Number Of Obserations In Each Bin\n",
    "\n",
    "grouped_df = pd.DataFrame()\n",
    "grouped_df[\"Observed Frequency\"] = df.groupby(\"obs\").count()\n",
    "grouped_df = grouped_df.reset_index()\n",
    "grouped_df"
   ]
  },
  {
   "cell_type": "code",
   "execution_count": null,
   "id": "fdce2c1f",
   "metadata": {},
   "outputs": [],
   "source": [
    "# Step-3 In Chi Square Goodness Of Fit : Determine The Expected Number Of Observations In Each Bin\n",
    "# Step3A : Determine The Poisson PMF For Each Bucket\n",
    "\n",
    "grouped_df[\"POISSON_PMF\"] = poisson.pmf(k=grouped_df.index,mu=df[\"obs\"].mean())\n",
    "grouped_df"
   ]
  },
  {
   "cell_type": "code",
   "execution_count": null,
   "id": "d7e7d97f",
   "metadata": {},
   "outputs": [],
   "source": [
    "# Step3B : Determined The Expected Frequency In Each Bucket\n",
    "\n",
    "grouped_df[\"Expected Frequency\"] = grouped_df[\"POISSON_PMF\"] * len(df)\n",
    "grouped_df"
   ]
  },
  {
   "cell_type": "code",
   "execution_count": null,
   "id": "4f8a1cf2",
   "metadata": {},
   "outputs": [],
   "source": [
    "print(\"Observed Frequency : \",grouped_df[\"Observed Frequency\"].sum())\n",
    "print(\"Expected Frequency : \",grouped_df[\"Expected Frequency\"].sum())"
   ]
  },
  {
   "cell_type": "code",
   "execution_count": null,
   "id": "6a284398",
   "metadata": {},
   "outputs": [],
   "source": [
    "# Since Expected Frequency Not Equal To Observed Frequency  \n",
    "\n",
    "grouped_df = grouped_df.drop(grouped_df[grouped_df['obs']==11].index)\n",
    "\n",
    "grouped_df.iloc[9,3] = 100 - grouped_df[\"Expected Frequency\"].iloc[:-1].sum()\n",
    "grouped_df.iloc[9,1] = 4\n",
    "grouped_df"
   ]
  },
  {
   "cell_type": "code",
   "execution_count": null,
   "id": "371823a1",
   "metadata": {},
   "outputs": [],
   "source": [
    "print(\"Observed Frequency : \",grouped_df[\"Observed Frequency\"].sum())\n",
    "print(\"Expected Frequency : \",grouped_df[\"Expected Frequency\"].sum())"
   ]
  },
  {
   "cell_type": "code",
   "execution_count": null,
   "id": "4bcbea78",
   "metadata": {},
   "outputs": [],
   "source": [
    "# Step-4A In Chi Square Goodness Of Square Fit : Determine The Test Statistics And P-value\n",
    "\n",
    "chisquare(grouped_df[\"Observed Frequency\"],grouped_df[\"Expected Frequency\"])"
   ]
  },
  {
   "cell_type": "markdown",
   "id": "ef5ba5e5",
   "metadata": {},
   "source": [
    "*Conclusion*<br>\n",
    "*Reject The Null If The Pvalue < Level Of Siginificance*<br>\n",
    "*Do Not Reject The Null If the Pvalue >= Level Of Siginificance*<br>\n",
    "*Say The Level Of Siginifance is 5%,Then For Given Data Set,P-value (0.634)>0.05-->Do Not Reject Null*<br>\n",
    "*Note : For Any Leel Of Siginificance -->70%,We Do Not Reject The Null For The Current Data Set.*<br>"
   ]
  },
  {
   "cell_type": "code",
   "execution_count": null,
   "id": "c70f44ac",
   "metadata": {},
   "outputs": [],
   "source": [
    "# Step-4B In Chi Square Goodness Of Square Fit : Determine The Tabulated Value Of The Test Statistics\n",
    "\n",
    "chi2.ppf(0.95,len(grouped_df)-1-1)"
   ]
  },
  {
   "cell_type": "markdown",
   "id": "6fb61f5d",
   "metadata": {},
   "source": [
    "*Conclusion*<br>\n",
    "*Reject The Null If The Tabulated Test Statistic Value < Computed Test Statistics Value*<br>\n",
    "*Do Not Reject The Null If The Tabulated Test Statistics Value >=  Computed Test Statistics Value*"
   ]
  },
  {
   "cell_type": "markdown",
   "id": "a5841957",
   "metadata": {},
   "source": [
    "## Question On Chi Square Goodness Of Fit Test"
   ]
  },
  {
   "cell_type": "markdown",
   "id": "3a02b8ea",
   "metadata": {},
   "source": [
    "A car maker is exploring the distribution of defects in the assembly line. Data on defective cars produced (a sample of 100 defective cars) on the assembly line are presented in the file titled (GOF.xlsx). The file contains one column - obs. The obs indicates the number of scratches found in a produced car.\n",
    "\n",
    "You are hired as the business analyst to assist the car maker in answering the following questions"
   ]
  },
  {
   "cell_type": "code",
   "execution_count": null,
   "id": "20accaec",
   "metadata": {},
   "outputs": [],
   "source": [
    "# 1. Based on the given sample data, the column “obs” can be assumed to have a __________.\n",
    "# Discrete distribution\n",
    "# Continuous distribution\n",
    "\n",
    "df = pd.read_csv(\"GOF.csv\")\n",
    "print(\"Column obs can be assumed to have a Discrete Distribution\")"
   ]
  },
  {
   "cell_type": "code",
   "execution_count": null,
   "id": "c7bfb227",
   "metadata": {},
   "outputs": [],
   "source": [
    "# 2. Given the sample data,the expected number of scratches on a car produced on the assembly line is __________.\n",
    "\n",
    "print(f\"Expected Number Of Scratches : {df['obs'].mean()}\")"
   ]
  },
  {
   "cell_type": "code",
   "execution_count": null,
   "id": "8a380c0c",
   "metadata": {},
   "outputs": [],
   "source": [
    "# 3. Based on the descriptive statistics (and visualization) of the sample data, the total scratch length can be assumed to\n",
    "# have a ___\n",
    "# 1. Symmetric distribution as the mean > median > mode\n",
    "# 2. Symmetric distribution as the mode > median > mean\n",
    "# 3. Right skewed distribution as the mean > median > mode\n",
    "# 4. Left skewed distribution as the mode > median > mean\n",
    "# 5. Left skewed distribution as the mean > median > mode\n",
    "# 6. Right skewed distribution as the mode > median > mean\n",
    "# 7. None of the above\n",
    "\n",
    "plt.hist(df[\"obs\"])\n",
    "plt.show()\n",
    "print(\"Right Skewed Distribution with mean = median = mode\")"
   ]
  },
  {
   "cell_type": "code",
   "execution_count": null,
   "id": "23cc5102",
   "metadata": {},
   "outputs": [],
   "source": [
    "# In Chi Square Goodness Of Fit : Create Bins\n",
    "\n",
    "df[\"bins\"] = pd.cut(df[\"obs\"],bins=10)\n",
    "df"
   ]
  },
  {
   "cell_type": "code",
   "execution_count": null,
   "id": "1839681d",
   "metadata": {},
   "outputs": [],
   "source": [
    "# Step-2 In Chi Square Goodness Of Fit : Count Number Of Obserations In Each Bin\n",
    "\n",
    "grouped_df = pd.DataFrame()\n",
    "grouped_df[\"Observed Frequency\"] = df.groupby(\"obs\").count()\n",
    "grouped_df = grouped_df.reset_index()\n",
    "grouped_df"
   ]
  },
  {
   "cell_type": "code",
   "execution_count": null,
   "id": "04230dd1",
   "metadata": {},
   "outputs": [],
   "source": [
    "# Step-3 In Chi Square Goodness Of Fit : Determine The Expected Number Of Observations In Each Bin\n",
    "# Step3A : Determine The Poisson PMF For Each Bucket\n",
    "\n",
    "grouped_df[\"POISSON_PMF\"] = poisson.pmf(k=grouped_df.index,mu=df[\"obs\"].mean())\n",
    "grouped_df"
   ]
  },
  {
   "cell_type": "code",
   "execution_count": null,
   "id": "5687b73e",
   "metadata": {},
   "outputs": [],
   "source": [
    "# Step3B : Determined The Expected Frequency In Each Bucket\n",
    "\n",
    "grouped_df[\"Expected Frequency\"] = grouped_df[\"POISSON_PMF\"] * len(df)\n",
    "grouped_df"
   ]
  },
  {
   "cell_type": "code",
   "execution_count": null,
   "id": "b6a39eeb",
   "metadata": {},
   "outputs": [],
   "source": [
    "grouped_df = grouped_df.drop(grouped_df[grouped_df['obs']==9].index)\n",
    "grouped_df"
   ]
  },
  {
   "cell_type": "code",
   "execution_count": null,
   "id": "82507cba",
   "metadata": {},
   "outputs": [],
   "source": [
    "# Since Expected Frequency Not Equal To Observed Frequency  \n",
    "\n",
    "grouped_df.iloc[7,3] = 100 - grouped_df[\"Expected Frequency\"].iloc[:-1].sum()\n",
    "grouped_df.iloc[7,1] = 13\n",
    "grouped_df"
   ]
  },
  {
   "cell_type": "code",
   "execution_count": null,
   "id": "a5752027",
   "metadata": {},
   "outputs": [],
   "source": [
    "# 4. If you perform a chi-square goodness of fit test for the “obs” column, what is the probability of observing exactly 4 \n",
    "# defects?\n",
    "# [Hint-1: Use the descriptive statistics to identify a possible distribution]\n",
    "# [Hint-2: Determine the chi-square test statistic without adding any new bins.  Modifying an existing bin is allowed ]\n",
    "\n",
    "print(\"Probability Of Observing Exactly 4 Defects :\", np.round(grouped_df[grouped_df[\"obs\"]==4][\"POISSON_PMF\"].values[0],4))"
   ]
  },
  {
   "cell_type": "code",
   "execution_count": null,
   "id": "055d072d",
   "metadata": {},
   "outputs": [],
   "source": [
    "# 5. If you perform a chi-square goodness of fit test for the “obs” column, what is the value of the computed test statistic?\n",
    "# [Hint-1: Use the descriptive statistics to identify a possible distribution]\n",
    "# [Hint-2: Determine the chi-square test statistic without adding any new bins. Modifying an existing bin is allowed]\n",
    "# [Hint 3: Use degrees of freedom (ddof) based on the assumed distribution]\n",
    "\n",
    "statistic = chisquare(grouped_df[\"Observed Frequency\"],grouped_df[\"Expected Frequency\"])\n",
    "print(\"Computed Test Statistic : \",np.round(statistic[0],4))\n",
    "statistic"
   ]
  },
  {
   "cell_type": "code",
   "execution_count": null,
   "id": "d8096be9",
   "metadata": {},
   "outputs": [],
   "source": [
    "# 6. If you perform a chi-square goodness of fit test for the “obs” column, what is the p-value for the test?\n",
    "# [Hint-1: Use the descriptive statistics to identify a possible distribution]\n",
    "# [Hint-2: Determine the chi-square test statistic without adding any newbins.  Modifying an existing bin is allowed ]\n",
    "# [Hint 3: Use degrees of freedom (ddof) based on the assumed distribution]\n",
    "\n",
    "statistic = chisquare(grouped_df[\"Observed Frequency\"],grouped_df[\"Expected Frequency\"])\n",
    "print(\"p-value : \",np.round(statistic[1],4))"
   ]
  },
  {
   "cell_type": "code",
   "execution_count": null,
   "id": "5e68e8f7",
   "metadata": {},
   "outputs": [],
   "source": [
    "# 7. How many degrees of freedom are present in the chi-square goodness of test to determine the distribution for the \n",
    "# “Number of Scratches” column?\n",
    "\n",
    "# dof = number of bins - parameter - 1\n",
    "print(\"Degree Of Freedom : \",len(grouped_df) - 1 - 1)"
   ]
  }
 ],
 "metadata": {
  "kernelspec": {
   "display_name": "Python 3 (ipykernel)",
   "language": "python",
   "name": "python3"
  },
  "language_info": {
   "codemirror_mode": {
    "name": "ipython",
    "version": 3
   },
   "file_extension": ".py",
   "mimetype": "text/x-python",
   "name": "python",
   "nbconvert_exporter": "python",
   "pygments_lexer": "ipython3",
   "version": "3.11.5"
  }
 },
 "nbformat": 4,
 "nbformat_minor": 5
}
