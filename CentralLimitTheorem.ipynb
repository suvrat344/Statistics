{
 "cells": [
  {
   "cell_type": "code",
   "execution_count": null,
   "id": "d5b997ba",
   "metadata": {},
   "outputs": [],
   "source": [
    "import numpy as np\n",
    "import pandas as pd\n",
    "import scipy\n",
    "import matplotlib.pyplot as plt\n",
    "import seaborn as sns"
   ]
  },
  {
   "cell_type": "code",
   "execution_count": null,
   "id": "fa5c6e32",
   "metadata": {},
   "outputs": [],
   "source": [
    "# Binomial Distribution\n",
    "\n",
    "n = 10\n",
    "p = 0.1\n",
    "size = 1000\n",
    "\n",
    "binomial_dist = np.random.binomial(n,p,size)\n",
    "\n",
    "plt.hist(binomial_dist,density=True)\n",
    "plt.show()"
   ]
  },
  {
   "cell_type": "code",
   "execution_count": null,
   "id": "0cbf7844",
   "metadata": {},
   "outputs": [],
   "source": [
    "# Uniform Distribution\n",
    "\n",
    "num_samples = 1000\n",
    "sample_size = 300\n",
    "distribution_range = (0,1)\n",
    "\n",
    "samples = np.random.uniform(distribution_range[0],distribution_range[1],(num_samples,sample_size))\n",
    "sample_means = np.mean(samples,axis=1)\n",
    "\n",
    "plt.hist(sample_means,bins=30,density=True,edgecolor='black')\n",
    "plt.title(\"Histogram of Sample Means\")\n",
    "plt.xlabel(\"Sample Mean\")\n",
    "plt.ylabel(\"Density\")\n",
    "plt.show()"
   ]
  },
  {
   "cell_type": "code",
   "execution_count": null,
   "id": "ff2a28de",
   "metadata": {},
   "outputs": [],
   "source": [
    "# Exponential Distribution\n",
    "\n",
    "num_samples = 1000\n",
    "sample_size = 50\n",
    "lambda_param = 2\n",
    "\n",
    "samples = np.random.exponential(scale=1/lambda_param,size=(num_samples,sample_size))\n",
    "sample_means = np.mean(samples,axis=1)\n",
    "\n",
    "plt.hist(sample_means,bins=30,density=True,edgecolor='black')\n",
    "plt.title(\"Histogram of Sample Means\")\n",
    "plt.xlabel(\"Sample Mean\")\n",
    "plt.ylabel(\"Density\")\n",
    "plt.show()"
   ]
  },
  {
   "cell_type": "code",
   "execution_count": null,
   "id": "db6cd793",
   "metadata": {},
   "outputs": [],
   "source": [
    "# Gamma Distribution\n",
    "\n",
    "num_samples = 1000\n",
    "sample_size = 50\n",
    "\n",
    "poisson_lambda = 5\n",
    "\n",
    "gamma_shape = 2\n",
    "gamma_scale = 1\n",
    "\n",
    "binomial_n = 10\n",
    "binomial_p = 0.5\n",
    "\n",
    "poisson_samples = np.random.poisson(lam=poisson_lambda,size=(num_samples,sample_size))\n",
    "gamma_samples = np.random.gamma(shape=gamma_shape,scale=gamma_scale,size=(num_samples,sample_size))\n",
    "binomial_samples = np.random.binomial(n=binomial_n,p=binomial_p,size=(num_samples,sample_size))\n",
    "\n",
    "poisson_means = np.mean(poisson_samples,axis=1)\n",
    "gamma_means = np.mean(gamma_samples,axis=1)\n",
    "binomial_means = np.mean(binomial_samples,axis=1)\n",
    "\n",
    "fig,ax = plt.subplots(3,1,figsize=(8,12))\n",
    "\n",
    "ax[0].hist(poisson_means,bins=30,density=True,edgecolor='black')\n",
    "ax[0].set_title(\"Histogram of Sample Means (Poisson Distribution)\")\n",
    "ax[0].set_xlabel(\"Sample Mean\")\n",
    "ax[0].set_ylabel(\"Density\")\n",
    "\n",
    "ax[1].hist(gamma_means,bins=30,density=True,edgecolor='black')\n",
    "ax[1].set_title(\"Histogram of Sample Means (Gamma Distribution)\")\n",
    "ax[1].set_xlabel(\"Sample Mean\")\n",
    "ax[1].set_ylabel(\"Density\")\n",
    "\n",
    "ax[2].hist(binomial_means,bins=30,density=True,edgecolor='black')\n",
    "ax[2].set_title(\"Histogram of Sample Means (Binomial Distribution)\")\n",
    "ax[2].set_xlabel(\"Sample Mean\")\n",
    "ax[2].set_ylabel(\"Density\")\n",
    "\n",
    "fig.tight_layout()\n",
    "plt.show()"
   ]
  },
  {
   "cell_type": "code",
   "execution_count": null,
   "id": "86200e5c",
   "metadata": {},
   "outputs": [],
   "source": [
    "# CLT On Gamma Distribution\n",
    "\n",
    "num_samples = 1000\n",
    "sample_size = 50\n",
    "\n",
    "gamma_shape = 2\n",
    "gamma_scale = 1\n",
    "\n",
    "theoretical_mean = gamma_shape * gamma_scale\n",
    "theoretical_variance = (gamma_shape * gamma_scale ** 2)\n",
    "\n",
    "samples = np.random.gamma(shape=gamma_shape,scale=gamma_scale,size=(num_samples,sample_size))\n",
    "sample_means = np.mean(samples,axis=1)\n",
    "\n",
    "empirical_mean = np.mean(sample_means)\n",
    "empirical_variance = np.var(sample_means)\n",
    "\n",
    "print(f\"Theoretical Mean : {theoretical_mean:0.4f}\")\n",
    "print(f\"Empirical Mean : {empirical_mean/50:0.4f}\")\n",
    "print(f\"Theoretical Variance : {theoretical_variance:0.4f}\")\n",
    "print(f\"Empirical Variance : {empirical_variance:0.4f}\")"
   ]
  },
  {
   "cell_type": "code",
   "execution_count": null,
   "id": "0139ce58",
   "metadata": {},
   "outputs": [],
   "source": [
    "# CLT On Log Normal Distribution\n",
    "\n",
    "num_samples = 1000\n",
    "sample_size = 50\n",
    "\n",
    "mu = 0.5\n",
    "sigma = 0.7\n",
    "\n",
    "theoretical_mean = np.exp(mu + (sigma**2)/2)\n",
    "theoretical_variance = (np.exp(sigma**2) - 1) * np.exp(2 * mu + sigma ** 2)\n",
    "\n",
    "samples = np.random.lognormal(mean=mu,sigma=sigma,size=(num_samples,sample_size))\n",
    "sample_means = np.mean(samples,axis=1)\n",
    "\n",
    "empirical_mean = np.mean(sample_means)\n",
    "empirical_variance = np.var(sample_means)\n",
    "\n",
    "print(f\"Theoretical Mean : {theoretical_mean:0.4f}\")\n",
    "print(f\"Empirical Mean : {empirical_mean/50:0.4f}\")\n",
    "print(f\"Theoretical Variance : {theoretical_variance:0.4f}\")\n",
    "print(f\"Empirical Variance : {empirical_variance:0.4f}\")"
   ]
  },
  {
   "cell_type": "code",
   "execution_count": null,
   "id": "9e3c8b2d",
   "metadata": {},
   "outputs": [],
   "source": [
    "# CLT Case Study\n",
    "\n",
    "population_size = 100000\n",
    "sample_size = 50\n",
    "num_samples = 100\n",
    "\n",
    "np.random.seed(42)\n",
    "population_salaries = np.random.lognormal(mean=4.5,sigma=0.8,size=population_size)\n",
    "\n",
    "sample_means = []\n",
    "sample_std_devs = []\n",
    "\n",
    "for _ in range(num_samples):\n",
    "    sample_salaries = np.random.choice(population_salaries,size=sample_size)\n",
    "    sample_means.append(np.mean(sample_salaries))\n",
    "    sample_std_devs.append(np.std(sample_salaries))\n",
    "    \n",
    "average_sample_mean = np.mean(sample_means)\n",
    "standard_error = np.std(sample_means) / np.sqrt(num_samples)\n",
    "\n",
    "margin_of_error = 1.96 * standard_error\n",
    "lower_limit = average_sample_mean - margin_of_error\n",
    "upper_limit = average_sample_mean + margin_of_error\n",
    "\n",
    "print(f\"Estimated Average Salary (in thousands) : {average_sample_mean:0.2f}\")\n",
    "print(f\"95% Confidence Interval (in thousands): ({lower_limit:0.2f},{upper_limit:0.2f})\")"
   ]
  },
  {
   "cell_type": "markdown",
   "id": "93ee1873",
   "metadata": {},
   "source": [
    "<h3> Question On Central Limit Theorem </h3>"
   ]
  },
  {
   "cell_type": "code",
   "execution_count": null,
   "id": "870808c3",
   "metadata": {},
   "outputs": [],
   "source": [
    "# A company claims that their email marketing campaign has a 15% click-through rate. If you randomly select 100 people to \n",
    "#receive the email, what is the probability that exactly 20 will click through to the website?\n",
    "\n",
    "p = .15\n",
    "n = 100\n",
    "x = 20\n",
    "\n",
    "prob = scipy.stats.binom.pmf(x,n,p)\n",
    "print(prob)"
   ]
  },
  {
   "cell_type": "markdown",
   "id": "3495c4c9",
   "metadata": {},
   "source": [
    "## Solution-1\n",
    "\n",
    "This is a binomial probability problem. The probability of exactly 20 people clicking through to the website out of 100 people who received the email can be calculated using the binomial formula:\n",
    "\n",
    "P(X=k) = (n choose k) * p^k * (1-p)^(n-k)\n",
    "\n",
    "where n is the number of trials (100 in this case), k is the number of successes (20 in this case), and p is the probability of success on a single trial (0.15 in this case).\n",
    "\n",
    "Substituting these values into the formula, we get:\n",
    "\n",
    "P(X=20) = (100 choose 20) * 0.15^20 * 0.85^80 ≈ 0.04\n",
    "\n",
    "So, the probability that exactly 20 out of 100 people will click through to the website is approximately 0.04 or about 4%."
   ]
  },
  {
   "cell_type": "code",
   "execution_count": null,
   "id": "2ae94c3d",
   "metadata": {},
   "outputs": [],
   "source": [
    "# A researcher is investigating whether a new medication improves patient outcomes. The medication has a success rate of \n",
    "# 75%. If the researcher enrolls 50 patients in the study, what is the probability that fewer than 35 will have a positive\n",
    "# outcome?\n",
    "\n",
    "p = 0.75\n",
    "n = 50\n",
    "x = 34\n",
    "\n",
    "prob = scipy.stats.binom.cdf(x,n,p)\n",
    "print(prob)\n",
    "\n",
    "result = 0\n",
    "for i in range(x+1):\n",
    "    result += scipy.special.comb(n,i,exact=True) * (p**i) * (1-p)**(n-i)\n",
    "print(result)"
   ]
  },
  {
   "cell_type": "markdown",
   "id": "e8156b26",
   "metadata": {},
   "source": [
    "## Solution-2\n",
    "\n",
    "This is another binomial probability problem. The probability of fewer than 35 patients having a positive outcome out of 50 patients enrolled in the study can be calculated using the cumulative distribution function (CDF) of the binomial distribution.\n",
    "\n",
    "P(X ≤ k) = ∑[i=0 to k] (n choose i) * p^i * (1-p)^(n-i)\n",
    "\n",
    "The CDF gives the probability that the number of successes in n independent trials is less than or equal to a given value k. In this case, n is the number of patients enrolled in the study (50), k is the maximum number of patients with a positive outcome (34), and p is the probability of success on a single trial (0.75)."
   ]
  },
  {
   "cell_type": "code",
   "execution_count": null,
   "id": "c5d6e26e",
   "metadata": {},
   "outputs": [],
   "source": [
    "# A website offers a premium subscription service with a 20% sign-up rate. If you randomly select 500 visitors to the \n",
    "# website, what is the probability that between 90 and 110 will sign up for the premium service?\n",
    "\n",
    "p = 0.2\n",
    "n = 500\n",
    "x1 = 90\n",
    "x2 = 110\n",
    "\n",
    "prob = scipy.stats.binom.cdf(x2,n,p) - scipy.stats.binom.cdf(x1,n,p)\n",
    "print(prob)\n",
    "\n",
    "def probBetween(x,n,p):\n",
    "    result = 0\n",
    "    for i in range(x+1):\n",
    "        result = result + scipy.special.comb(n,i,exact=True) * (p**i) * (1-p)**(n-i)\n",
    "    return result\n",
    "\n",
    "print(probBetween(x2,n,p) - probBetween(x1,n,p))"
   ]
  },
  {
   "cell_type": "markdown",
   "id": "318527f5",
   "metadata": {},
   "source": [
    "## Solution-3\n",
    "\n",
    "This is another binomial probability problem. The probability of between 90 and 110 visitors signing up for the premium service out of 500 visitors to the website can be calculated using the cumulative distribution function (CDF) of the binomial distribution.\n",
    "\n",
    "The CDF gives the probability that the number of successes in n independent trials is less than or equal to a given value k. In this case, n is the number of visitors to the website (500), k1 is the minimum number of visitors who sign up for the premium service (90), k2 is the maximum number of visitors who sign up for the premium service (110), and p is the probability of success on a single trial (0.20).\n",
    "\n",
    "The probability that between k1 and k2 visitors will sign up for the premium service out of n visitors to the website can be calculated as:\n",
    "\n",
    "P(k1 ≤ X ≤ k2) = P(X ≤ k2) - P(X < k1) = F(k2) - F(k1-1)\n",
    "\n",
    "where F(k) is the CDF of the binomial distribution with parameters n and p at k."
   ]
  },
  {
   "cell_type": "code",
   "execution_count": null,
   "id": "b41d2c51",
   "metadata": {},
   "outputs": [],
   "source": [
    "# A school district is investigating the effectiveness of a new reading program. The program has a success rate of 70%. If\n",
    "#the district enrolls 200 students in the program, what is the probability that more than 140 will show significant \n",
    "#improvement in reading skills?\n",
    "\n",
    "p = .7\n",
    "n = 200\n",
    "x = 140\n",
    "\n",
    "prob = 1 - scipy.stats.binom.cdf(x,n,p)\n",
    "print(prob)\n",
    "\n",
    "def probBetween(x,n,p):\n",
    "    result = 0\n",
    "    for i in range(x+1):\n",
    "        result = result + scipy.special.comb(n,i,exact=True) * (p**i) * (1-p)**(n-i)\n",
    "    return result\n",
    "\n",
    "print(1 - probBetween(x,n,p))"
   ]
  },
  {
   "cell_type": "markdown",
   "id": "13a311a4",
   "metadata": {},
   "source": [
    "## Solution-4\n",
    "This is another binomial probability problem. The probability of more than 140 students showing significant improvement in reading skills out of 200 students enrolled in the program can be calculated using the cumulative distribution function (CDF) of the binomial distribution.\n",
    "\n",
    "The CDF gives the probability that the number of successes in n independent trials is less than or equal to a given value k. In this case, n is the number of students enrolled in the program (200), k is the maximum number of students who do not show significant improvement in reading skills (59), and p is the probability of success on a single trial (0.70).\n",
    "\n",
    "The probability that more than k students will show significant improvement in reading skills out of n students enrolled in the program can be calculated as:\n",
    "\n",
    "P(X > k) = 1 - P(X ≤ k) = 1 - F(k)\n",
    "\n",
    "where F(k) is the CDF of the binomial distribution with parameters n and p at k."
   ]
  },
  {
   "cell_type": "code",
   "execution_count": null,
   "id": "f915e657",
   "metadata": {},
   "outputs": [],
   "source": [
    "# A factory produces electronic components with a defect rate of 5%. If a shipment of 200 components is sent out, what is \n",
    "# the probability that fewer than 10 will be defective?\n",
    "\n",
    "p = 0.05\n",
    "n = 200\n",
    "x = 9\n",
    "\n",
    "prob = scipy.stats.binom.cdf(x,n,p)\n",
    "print(prob)"
   ]
  },
  {
   "cell_type": "markdown",
   "id": "edc1098b",
   "metadata": {},
   "source": [
    "## Solution-5\n",
    "\n",
    "The CDF gives the probability that the number of successes in n independent trials is less than or equal to a given \n",
    "value k. In this case, n is the number of components in the shipment (200), k is the maximum number of defective \n",
    "components (9), and p is the probability of success on a single trial (0.05)."
   ]
  },
  {
   "cell_type": "code",
   "execution_count": null,
   "id": "3538a4e3",
   "metadata": {},
   "outputs": [],
   "source": [
    "# A survey shows that 70% of people prefer chocolate ice cream over vanilla ice cream. If you randomly survey one person, \n",
    "#what is the probability that they prefer vanilla ice cream?\n",
    "\n",
    "p = .7\n",
    "print(1-p)"
   ]
  },
  {
   "cell_type": "markdown",
   "id": "a7823c3a",
   "metadata": {},
   "source": [
    "## Solution-6\n",
    "This is a Bernoulli trial with p = 0.7. The probability of the person preferring vanilla ice cream is 1 - p = 0.3."
   ]
  },
  {
   "cell_type": "code",
   "execution_count": null,
   "id": "9d8e25ae",
   "metadata": {},
   "outputs": [],
   "source": [
    "# A software company releases a new product with a bug rate of 2%. If 10,000 copies of the product are sold, what is the \n",
    "#probability that at least 250 will have a bug?\n",
    "\n",
    "p = 0.02\n",
    "n = 10000\n",
    "x = 249\n",
    "prob = 1 - scipy.stats.binom.cdf(x,n,p)\n",
    "print(prob)"
   ]
  },
  {
   "cell_type": "markdown",
   "id": "90f23d06",
   "metadata": {},
   "source": [
    "## Solution-7\n",
    "\n",
    "This problem can be solved using the binomial distribution. We can model the number of copies with bugs out of 10,000 as a \n",
    "binomial random variable with n=10,000 and p=0.02, where p is the probability of a single copy having a bug. We want to \n",
    "find the probability that at least 250 copies have a bug, which can be written as:\n",
    "\n",
    "P(X >= 250) = 1 - P(X < 250)\n",
    "\n",
    "where X is the number of copies with bugs.\n",
    "\n",
    "To calculate this probability, we can use the cumulative distribution function (CDF) of the binomial distribution."
   ]
  },
  {
   "cell_type": "code",
   "execution_count": null,
   "id": "42161586",
   "metadata": {},
   "outputs": [],
   "source": [
    "# According to data from the National Center for Health Statistics (NCHS), the average height for adult men aged 20 years \n",
    "#and over in the United States is approximately 69.2 inches with a standard deviation of approximately 2.9 inches. If you \n",
    "#randomly select a sample of 50 adult men aged 20 years and over, what is the probability that the sample mean height is \n",
    "#greater than 70 inches?\n",
    "\n",
    "mu = 69.2\n",
    "sigma = 2.9\n",
    "x = 70\n",
    "n = 50\n",
    "\n",
    "z = (x - mu)/(sigma/n**0.5)\n",
    "prob = 1 - scipy.stats.norm.cdf(z)\n",
    "print(prob)"
   ]
  },
  {
   "cell_type": "markdown",
   "id": "dde518c3",
   "metadata": {},
   "source": [
    "## Solution-8\n",
    "\n",
    "This is a problem that can be solved using the central limit theorem. The central limit theorem states that the distribution of sample means approaches a normal distribution as the sample size increases, regardless of the shape of the population distribution.\n",
    "\n",
    "In this case, we are given that the population mean height is 69.2 inches and the population standard deviation is 2.9 inches. If we randomly select a sample of 50 adult men, the sample mean height will have a normal distribution with a mean equal to the population mean (69.2) and a standard deviation equal to the population standard deviation divided by the square root of the sample size (2.9 / sqrt(50) ≈ 0.41).\n",
    "\n",
    "We can use this information to calculate the probability that the sample mean height is greater than 70 inches. This probability is equivalent to the probability that a standard normal variable Z is greater than (70 - 69.2) / 0.41 ≈ 1.95."
   ]
  },
  {
   "cell_type": "code",
   "execution_count": null,
   "id": "1d95d33e",
   "metadata": {},
   "outputs": [],
   "source": [
    "# A company claims that the average salary of its employees is 75,000 with a standard deviation of 10,000. If you randomly \n",
    "# select 100 employees, what is the probability that the sample mean salary is less than 72,500?\n",
    "\n",
    "mu = 75000\n",
    "sigma = 10000\n",
    "n = 100\n",
    "x = 72500\n",
    "\n",
    "z = (x - mu)/(sigma/n**0.5)\n",
    "prob = scipy.stats.norm.cdf(z)\n",
    "print(prob)"
   ]
  },
  {
   "cell_type": "markdown",
   "id": "c249a65a",
   "metadata": {},
   "source": [
    "## Solution-9\n",
    "\n",
    "This is a problem that can be solved using the central limit theorem. The central limit theorem states that the \n",
    "distribution of sample means approaches a normal distribution as the sample size increases, regardless of the shape of \n",
    "the population distribution.\n",
    "\n",
    "In this case, we are given that the population mean salary is 75,000 and the population standard deviation is 10,000. If \n",
    "we randomly select a sample of 100 employees, the sample mean salary will have a normal distribution with a mean equal to \n",
    "the population mean (75,000) and a standard deviation equal to the population standard deviation divided by the square \n",
    "root of the sample size (10,000 / sqrt(100) = 1,000).\n",
    "\n",
    "We can use this information to calculate the probability that the sample mean salary is less than 72,500. This probability \n",
    "is equivalent to the probability that a standard normal variable Z is less than (72,500 - 75,000) / 1,000 = -2.5."
   ]
  },
  {
   "cell_type": "code",
   "execution_count": null,
   "id": "dfe14818",
   "metadata": {},
   "outputs": [],
   "source": [
    "# A restaurant claims that the average wait time for a table is 15 minutes with a standard deviation of 3 minutes. If \n",
    "# you randomly survey 50 customers, what is the probability that the sample mean wait time is greater than 16 minutes?\n",
    "\n",
    "mu = 15\n",
    "sigma = 3\n",
    "n = 50\n",
    "x = 16\n",
    "\n",
    "z = (x - mu)/(sigma/n**0.5)\n",
    "prob = 1 - scipy.stats.norm.cdf(z)\n",
    "print(prob)"
   ]
  },
  {
   "cell_type": "markdown",
   "id": "261852af",
   "metadata": {},
   "source": [
    "## Solution-10\n",
    "\n",
    "In this case, we are given that the population mean wait time is 15 minutes and the population standard deviation is 3 minutes. If we randomly select a sample of 50 customers, the sample mean wait time will have a normal distribution with a mean equal to the population mean (15) and a standard deviation equal to the population standard deviation divided by the square root of the sample size (3 / sqrt(50) ≈ 0.424).\n",
    "\n",
    "We can use this information to calculate the probability that the sample mean wait time is greater than 16 minutes. This probability is equivalent to the probability that a standard normal variable Z is greater than (16 - 15) / 0.424 ≈ 2.36."
   ]
  },
  {
   "cell_type": "code",
   "execution_count": null,
   "id": "48e4df4e",
   "metadata": {
    "scrolled": true
   },
   "outputs": [],
   "source": [
    "# What is the average and standard deviation for the salary in our data set? Show the distribution of the salary \n",
    "# (Histogram and kde both).\n",
    "\n",
    "# Now verify the dataset mean and std from using central limit theorem using following sample and sample size:\n",
    "# a) 200 samples of size 30\n",
    "# b) 100 samples of size 50\n",
    "# Plot samples means distribution and show horizontal line for both mean value: Dataset mean value and means of sample \n",
    "# mean.\n",
    "\n",
    "df = pd.read_csv(\"ds_salaries.csv\",index_col = [0])\n",
    "\n",
    "mean = df[\"salary_in_usd\"].mean()\n",
    "std_dev = df[\"salary_in_usd\"].std()\n",
    "\n",
    "sample_sizes = [30,50]\n",
    "total_samples = [200,100]\n",
    "\n",
    "for sample_size,total_sample in zip(sample_sizes,total_samples):\n",
    "    list_of_sample_means = []\n",
    "    \n",
    "    for i in range(total_sample):\n",
    "        sample = df[\"salary_in_usd\"].sample(n=sample_size,replace=True)\n",
    "        sample_mean = sample.mean()\n",
    "        list_of_sample_means.append(sample_mean)\n",
    "        \n",
    "    plt.hist(list_of_sample_means,bins=25)\n",
    "    plt.title(f\"Distribution of Mean of Salaries ({total_sample} Samples of {sample_size})\")\n",
    "    plt.xlabel(\"Salary\")\n",
    "    plt.ylabel(\"Frequency\")\n",
    "    plt.axvline(x=np.mean(list_of_sample_means),label='Sample Mean',color=\"green\")\n",
    "    plt.axvline(x=df[\"salary_in_usd\"].mean(),label='Population Mean',color=\"red\")\n",
    "    plt.legend(loc = \"upper right\")\n",
    "    plt.show()"
   ]
  }
 ],
 "metadata": {
  "kernelspec": {
   "display_name": "Python 3 (ipykernel)",
   "language": "python",
   "name": "python3"
  },
  "language_info": {
   "codemirror_mode": {
    "name": "ipython",
    "version": 3
   },
   "file_extension": ".py",
   "mimetype": "text/x-python",
   "name": "python",
   "nbconvert_exporter": "python",
   "pygments_lexer": "ipython3",
   "version": "3.11.5"
  }
 },
 "nbformat": 4,
 "nbformat_minor": 5
}
