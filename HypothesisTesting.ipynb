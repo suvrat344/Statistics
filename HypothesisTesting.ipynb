{
 "cells": [
  {
   "cell_type": "markdown",
   "id": "05351b53",
   "metadata": {},
   "source": [
    "## Hypothesis Testing"
   ]
  },
  {
   "cell_type": "code",
   "execution_count": null,
   "id": "deb95a77",
   "metadata": {},
   "outputs": [],
   "source": [
    "# Importing Packages\n",
    "\n",
    "import numpy as np\n",
    "import matplotlib.pyplot as plt\n",
    "from scipy.stats import shapiro,levene,t"
   ]
  },
  {
   "cell_type": "code",
   "execution_count": null,
   "id": "ea0c7490",
   "metadata": {},
   "outputs": [],
   "source": [
    "# The Shapiro - Wilk test returns two values : the test statistic (W) and the p-value\n",
    "# If the p-value is greater than choosen siginificance level (alpha = 0.05) you can assume the data comes from a normally \n",
    "# distributed population.\n",
    "# If the p-value is less than or equal to the siginificance level, the normality assumption is not met and you should consider \n",
    "# applying a data transformation or using a non-parametric test like the Mann Whitney U test.\n",
    "\n",
    "desktop_users = [12, 15, 18, 16, 20, 17, 14, 22, 19, 21, 23, 18, 25, 17, 16, 24, 20, 19, 22, 18, 15, 14, 23, 16, 12, 21, 19, 17,\n",
    "                 20, 14]\n",
    "mobile_users = [10, 12, 14, 13, 16, 15, 11, 17, 14, 16, 18, 14, 20, 15, 14, 19, 16, 15, 17, 14, 12, 11, 18, 15, 10, 16, 15, 13, \n",
    "                16, 11]\n",
    "\n",
    "shapiro_desktop = shapiro(desktop_users)\n",
    "shapiro_mobile = shapiro(mobile_users)\n",
    "\n",
    "print(\"Shapiro-Wilk test for desktop users : \",shapiro_desktop)\n",
    "print(\"Shapiro-Wilk test for desktop users : \",shapiro_mobile)"
   ]
  },
  {
   "cell_type": "code",
   "execution_count": null,
   "id": "95bcae42",
   "metadata": {},
   "outputs": [],
   "source": [
    "# If p-value from Levene's is greater than your chosen siginificance  level (alpha = 0.05),you can assume equal variance.\n",
    "# If p-value is less than or equal to the siginificance level, the assumption of equal variance is not met,and you should \n",
    "# consider using Welch's test instead of the regular independent two-sample t-test.\n",
    "\n",
    "desktop_users = [12, 15, 18, 16, 20, 17, 14, 22, 19, 21, 23, 18, 25, 17, 16, 24, 20, 19, 22, 18, 15, 14, 23, 16, 12, 21, 19, 17,\n",
    "                 20, 14]\n",
    "mobile_users = [10, 12, 14, 13, 16, 15, 11, 17, 14, 16, 18, 14, 20, 15, 14, 19, 16, 15, 17, 14, 12, 11, 18, 15, 10, 16, 15, 13, \n",
    "                16, 11]\n",
    "\n",
    "levene_test = levene(desktop_users,mobile_users)\n",
    "print(levene_test)"
   ]
  },
  {
   "cell_type": "code",
   "execution_count": null,
   "id": "ef22638a",
   "metadata": {},
   "outputs": [],
   "source": [
    "# Weight Loss Before And After Performing Gym\n",
    "\n",
    "before = np.array([80, 92, 75, 68, 85, 78, 73, 90, 70, 88, 76, 84, 82, 77, 91])\n",
    "after = np.array([78, 93, 81, 67, 88, 76, 74, 91, 69, 88, 77, 81, 80, 79, 88])\n",
    "\n",
    "difference = after - before\n",
    "\n",
    "plt.hist(difference)\n",
    "plt.title(\"Histogram of Weight Difference\")\n",
    "plt.xlabel(\"Weight Difference (kg)\")\n",
    "plt.ylabel(\"Frequency\")\n",
    "plt.show()\n",
    "\n",
    "shapiro_test = shapiro(difference)\n",
    "print(\"Shapiro-Wilk test : \",shapiro_test)"
   ]
  },
  {
   "cell_type": "code",
   "execution_count": null,
   "id": "9c28a79d",
   "metadata": {},
   "outputs": [],
   "source": [
    "mean_diff = np.mean(difference)\n",
    "std_diff = np.std(difference,ddof=1)\n",
    "n = len(difference)\n",
    "t_statistic = mean_diff / (std_diff/np.sqrt(n))\n",
    "dof = n - 1\n",
    "print(\"t-statistics : \",t_statistic)"
   ]
  },
  {
   "cell_type": "code",
   "execution_count": null,
   "id": "3f544619",
   "metadata": {},
   "outputs": [],
   "source": [
    "alpha = 0.05\n",
    "p_value = t.cdf(t_statistic,dof)\n",
    "p_value"
   ]
  },
  {
   "cell_type": "markdown",
   "id": "e9d5ae65",
   "metadata": {},
   "source": [
    "<h3> Question On Null Hypothesis </h3>"
   ]
  },
  {
   "cell_type": "code",
   "execution_count": null,
   "id": "1bd49a36",
   "metadata": {},
   "outputs": [],
   "source": []
  }
 ],
 "metadata": {
  "kernelspec": {
   "display_name": "Python 3 (ipykernel)",
   "language": "python",
   "name": "python3"
  },
  "language_info": {
   "codemirror_mode": {
    "name": "ipython",
    "version": 3
   },
   "file_extension": ".py",
   "mimetype": "text/x-python",
   "name": "python",
   "nbconvert_exporter": "python",
   "pygments_lexer": "ipython3",
   "version": "3.11.5"
  }
 },
 "nbformat": 4,
 "nbformat_minor": 5
}
