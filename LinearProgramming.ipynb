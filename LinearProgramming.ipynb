{
 "cells": [
  {
   "cell_type": "markdown",
   "id": "b1ec1b9f",
   "metadata": {},
   "source": [
    "## Linear Programming"
   ]
  },
  {
   "cell_type": "code",
   "execution_count": null,
   "id": "3fe6e253",
   "metadata": {},
   "outputs": [],
   "source": [
    "# pip install pulp"
   ]
  },
  {
   "cell_type": "markdown",
   "id": "cbfde4bb",
   "metadata": {},
   "source": [
    "<h3> Primal </h3>"
   ]
  },
  {
   "cell_type": "code",
   "execution_count": null,
   "id": "a28bc4d2",
   "metadata": {},
   "outputs": [],
   "source": [
    "# Import Packages\n",
    "\n",
    "import pulp as p"
   ]
  },
  {
   "cell_type": "code",
   "execution_count": null,
   "id": "8f5bf166",
   "metadata": {},
   "outputs": [],
   "source": [
    "# Creating Primal Instance\n",
    "\n",
    "primal = p.LpProblem(\"Primal\",p.LpMaximize)"
   ]
  },
  {
   "cell_type": "code",
   "execution_count": null,
   "id": "e14efb05",
   "metadata": {},
   "outputs": [],
   "source": [
    "# Declaring Variable\n",
    "\n",
    "x1 = p.LpVariable(\"x1\",lowBound=0)\n",
    "x2 = p.LpVariable(\"x2\",lowBound=0)\n",
    "x3 = p.LpVariable(\"x3\",lowBound=0)"
   ]
  },
  {
   "cell_type": "code",
   "execution_count": null,
   "id": "bd04203b",
   "metadata": {},
   "outputs": [],
   "source": [
    "# Objective Function\n",
    "primal += 500000*x1 + 1000000*x2 + 2500000*x3\n",
    "\n",
    "# Constraint\n",
    "primal += 15 * x1 + 20 * x2 + 60 * x3 <= 120000\n",
    "primal += 20 * x1 + 50 * x2 + 100 * x3 <= 140000\n",
    "print(primal)"
   ]
  },
  {
   "cell_type": "code",
   "execution_count": null,
   "id": "38673bc2",
   "metadata": {},
   "outputs": [],
   "source": [
    "# Solution\n",
    "solution = primal.solve()\n",
    "print(p.LpStatus[solution])\n",
    "print(p.value(x1),p.value(x2),p.value(x3),p.value(primal.objective))"
   ]
  },
  {
   "cell_type": "markdown",
   "id": "d3341928",
   "metadata": {},
   "source": [
    "<h3> Dual </h3>"
   ]
  },
  {
   "cell_type": "code",
   "execution_count": null,
   "id": "e337d396",
   "metadata": {},
   "outputs": [],
   "source": [
    "# Creating Dual Instance\n",
    "\n",
    "dual = p.LpProblem(\"Dual\",p.LpMinimize)"
   ]
  },
  {
   "cell_type": "code",
   "execution_count": null,
   "id": "7d7cc1bc",
   "metadata": {},
   "outputs": [],
   "source": [
    "# Declaring Variable\n",
    "\n",
    "y1 = p.LpVariable(\"y1\",lowBound=0)\n",
    "y2 = p.LpVariable(\"y2\",lowBound=0)"
   ]
  },
  {
   "cell_type": "code",
   "execution_count": null,
   "id": "bb3461ca",
   "metadata": {},
   "outputs": [],
   "source": [
    "# Objective Function\n",
    "\n",
    "dual += 120000 * y1 + 140000 * y2\n",
    "\n",
    "# Constraint\n",
    "\n",
    "dual += 15 * y1 + 20 * y2 >= 500000\n",
    "dual += 20 * y1 + 50 * y2 >= 1000000\n",
    "dual += 60 * y1 + 100 * y2 >= 2500000\n",
    "\n",
    "print(dual)"
   ]
  },
  {
   "cell_type": "code",
   "execution_count": null,
   "id": "456eaf9a",
   "metadata": {},
   "outputs": [],
   "source": [
    "# Solution \n",
    "solution = dual.solve()\n",
    "print(p.LpStatus[solution])\n",
    "print(p.value(y1),p.value(y2),p.value(dual.objective))"
   ]
  }
 ],
 "metadata": {
  "kernelspec": {
   "display_name": "Python 3 (ipykernel)",
   "language": "python",
   "name": "python3"
  },
  "language_info": {
   "codemirror_mode": {
    "name": "ipython",
    "version": 3
   },
   "file_extension": ".py",
   "mimetype": "text/x-python",
   "name": "python",
   "nbconvert_exporter": "python",
   "pygments_lexer": "ipython3",
   "version": "3.11.5"
  }
 },
 "nbformat": 4,
 "nbformat_minor": 5
}
